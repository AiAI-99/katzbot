{
 "cells": [
  {
   "cell_type": "markdown",
   "id": "c97e71e6",
   "metadata": {},
   "source": [
    "# Import Libraries"
   ]
  },
  {
   "cell_type": "code",
   "execution_count": null,
   "id": "fe0337a1",
   "metadata": {},
   "outputs": [],
   "source": [
    "# Import Libraries\n",
    "import os\n",
    "import re\n",
    "import time\n",
    "import json\n",
    "import nltk\n",
    "import torch\n",
    "import random\n",
    "import datetime\n",
    "import numpy as np\n",
    "import pandas as pd\n",
    "import seaborn as sns\n",
    "import matplotlib.pyplot as plt\n",
    "from transformers import AdamW, get_linear_schedule_with_warmup\n",
    "from transformers import GPT2LMHeadModel,  GPT2Tokenizer, GPT2Config\n",
    "from torch.utils.data import Dataset, DataLoader, random_split, RandomSampler, SequentialSampler\n",
    "torch.manual_seed(42)\n",
    "import math\n",
    "import torch.nn as nn\n",
    "from torch.nn import functional as F\n",
    "from torch.nn import DataParallel\n",
    "import torch.optim as optim\n",
    "from tqdm import tqdm\n",
    "from transformers import GPT2Model, GPT2Config\n",
    "import seaborn as sns\n",
    "import matplotlib.pyplot as plt\n",
    "from rouge import Rouge\n",
    "from copy import deepcopy\n"
   ]
  },
  {
   "cell_type": "markdown",
   "id": "76e74f29",
   "metadata": {},
   "source": [
    "# Model Configuration"
   ]
  },
  {
   "cell_type": "code",
   "execution_count": null,
   "id": "f22cf7be",
   "metadata": {},
   "outputs": [],
   "source": [
    "class Args():\n",
    "    def __init__(self):\n",
    "        # load train dataset\n",
    "        self.dataset_dir = r\"D:\\KatzBot\\katzbot\"\n",
    "        \n",
    "        \n",
    "        self.train_path = r\"dataset_katzbot/New_Train_QA_Pairs.csv\"\n",
    "        self.input_file_path = os.path.join(self.dataset_dir, self.train_path)\n",
    "        \n",
    "        # load test dataset\n",
    "        self.test_path = r\"dataset_katzbot/Test_QA_Pairs.csv\"\n",
    "        self.test_data = os.path.join(self.dataset_dir, self.test_path)\n",
    "        self.save_text_file = \"predicted_answer.txt\"\n",
    "        self.predict_file = \"Test_QA_Pairs_pretrained_gpt.csv\"\n",
    "        \n",
    "        self.original_text = \"answer\"\n",
    "        self.predicted_result = \"predicted_answer\"\n",
    "\n",
    "        \n",
    "        # list of gpt model \n",
    "        self.gpt = \"gpt2\"\n",
    "        # # Model and tokeniser\n",
    "        self.model_type = self.gpt\n",
    "        self.tokenizer_name = self.gpt\n",
    "        \n",
    "        # Sets the directory to which the trained model will be saved\n",
    "        self.output_dir_sent = 'models_custom_sentence'\n",
    "        self.output_dir = 'models_custom_qa'\n",
    "        self.model_name = \"custom_gpt2.pt\"\n",
    "        \n",
    "        # Parameters\n",
    "        # Set the seed value all over the place to make this reproducible.\n",
    "        self.seed_val = 42\n",
    "        self.batch_size = 4\n",
    "        self.epochs = 100\n",
    "        self.learning_rate = 5e-4\n",
    "        self.warmup_steps = 1e1\n",
    "        self.epsilon = 1e-5\n",
    "        self.weight_decay = 1e-2\n",
    "        self.sample_every = 100\n",
    "        self.device = torch.device(\"cuda\" if torch.cuda.is_available() else \"cpu\")\n",
    "        \n",
    "args = Args()\n"
   ]
  },
  {
   "cell_type": "code",
   "execution_count": null,
   "id": "984a5771",
   "metadata": {},
   "outputs": [],
   "source": [
    "# Set the seed value all over the place to make this reproducible.\n",
    "seed_val = args.seed_val\n",
    "\n",
    "# Set the random seed for the Python built-in `random` module.\n",
    "random.seed(seed_val)\n",
    "np.random.seed(seed_val)\n",
    "\n",
    "# Set the random seed for PyTorch to ensure reproducibility on the GPU.\n",
    "torch.manual_seed(seed_val)\n",
    "torch.cuda.manual_seed_all(seed_val)\n"
   ]
  },
  {
   "cell_type": "markdown",
   "id": "34687c67",
   "metadata": {},
   "source": [
    "# Custom Model"
   ]
  },
  {
   "cell_type": "code",
   "execution_count": null,
   "id": "686a4c7b",
   "metadata": {},
   "outputs": [],
   "source": [
    "class CustomGPT2LMHeadModel(nn.Module):\n",
    "    def __init__(self, config, num_extra_blocks=0, num_extra_attentions=0):\n",
    "        super().__init__()\n",
    "        self.config = config  # Store the configuration passed to the model\n",
    "        self.gpt2 = GPT2Model(config)  \n",
    "\n",
    "        # Add additional MultiheadAttention layers as specified by num_extra_attentions\n",
    "        self.extra_attentions = nn.ModuleList([\n",
    "            nn.MultiheadAttention(embed_dim=config.n_embd, num_heads=config.num_attention_heads)\n",
    "            for _ in range(num_extra_attentions)\n",
    "        ])\n",
    "\n",
    "        # Clone the first block from GPT2 multiple times as specified by num_extra_blocks\n",
    "        self.extra_blocks = nn.ModuleList([deepcopy(self.gpt2.h[0]) for _ in range(num_extra_blocks)])\n",
    "        \n",
    "        # Linear layer for converting hidden states to vocabulary size (output layer)\n",
    "        self.lm_head = nn.Linear(config.n_embd, config.vocab_size, bias=False)\n",
    "        \n",
    "        # Ensure the input and output embeddings share weights\n",
    "        self.tie_weights()  \n",
    "        self.device = torch.device(\"cuda\") \n",
    "         \n",
    "    def tie_weights(self):\n",
    "        \"\"\" Tie the weights between the input embeddings and the output logits. \"\"\"\n",
    "        self.lm_head.weight = nn.Parameter(self.gpt2.wte.weight.clone())\n",
    "\n",
    "    def resize_token_embeddings(self, new_num_tokens):\n",
    "        \"\"\" Resize the token embeddings in the model to accommodate new vocabulary size. \"\"\"\n",
    "        old_embeddings = self.gpt2.wte\n",
    "        new_embeddings = nn.Embedding(new_num_tokens, old_embeddings.embedding_dim)\n",
    "        new_embeddings.to(old_embeddings.weight.device)\n",
    "\n",
    "        # Copy weights from old embeddings to new one for the overlapped part\n",
    "        num_tokens_to_copy = min(new_num_tokens, old_embeddings.num_embeddings)\n",
    "        new_embeddings.weight.data[:num_tokens_to_copy, :] = old_embeddings.weight.data[:num_tokens_to_copy, :]\n",
    "\n",
    "        # Update embeddings in model\n",
    "        self.gpt2.wte = new_embeddings\n",
    "        self.tie_weights()  # Re-tie weights after resizing embeddings\n",
    "\n",
    "    def forward(self, input_ids, attention_mask=None, labels=None):\n",
    "        # Process input through the main GPT-2 model\n",
    "        outputs = self.gpt2(input_ids=input_ids, attention_mask=attention_mask)\n",
    "        sequence_output = outputs.last_hidden_state\n",
    "\n",
    "        # Handle the attention mask for additional attention layers\n",
    "        if attention_mask is not None:\n",
    "            attention_mask = attention_mask.bool()\n",
    "            key_padding_mask = ~attention_mask  # Invert the attention mask for masking in MultiheadAttention\n",
    "        else:\n",
    "            key_padding_mask = None\n",
    "\n",
    "        # Apply extra attention layers before processing through the GPT-2 blocks\n",
    "        for attention in self.extra_attentions:\n",
    "            sequence_output = sequence_output.transpose(0, 1)  # Transpose for attention input\n",
    "            attn_output, _ = attention(sequence_output, sequence_output, sequence_output, key_padding_mask=key_padding_mask)\n",
    "            sequence_output = attn_output.transpose(0, 1)  # Transpose back\n",
    "\n",
    "        # Process output through additional GPT-2 blocks\n",
    "        for block in self.extra_blocks:\n",
    "            layer_outputs = block(sequence_output, attention_mask=outputs.attentions)\n",
    "            sequence_output = layer_outputs[0]  # Only take the output, not the attention scores\n",
    "\n",
    "        # Calculate logits using the output layer\n",
    "        logits = self.lm_head(sequence_output)\n",
    "\n",
    "        loss = None\n",
    "        if labels is not None:\n",
    "            # Calculate loss if labels are provided\n",
    "            shift_logits = logits[..., :-1, :].contiguous()\n",
    "            shift_labels = labels[..., 1:].contiguous()\n",
    "            loss_fct = nn.CrossEntropyLoss()\n",
    "            loss = loss_fct(shift_logits.view(-1, shift_logits.size(-1)), shift_labels.view(-1))\n",
    "\n",
    "        return (loss, logits) if loss is not None else logits\n",
    "    \n",
    "    def generate(self, generated, max_length=512, do_sample=True, top_k=50, top_p=0.95, num_return_sequences=1, pad_token_id=None, eos_token_id=None):\n",
    "        self.eval()  # Set the model to eval mode for generation\n",
    "        generated_sequences = []\n",
    "\n",
    "        with torch.no_grad():\n",
    "            for _ in range(num_return_sequences):\n",
    "                # # Start with bos token\n",
    "                # input_ids = torch.tensor([bos_token_id], device=self.device).unsqueeze(0)\n",
    "                # generated = input_ids\n",
    "\n",
    "                for _ in range(max_length):\n",
    "                    outputs = self(generated, attention_mask=None)  # No need for labels or attention mask here\n",
    "                    logits = outputs[1] if isinstance(outputs, tuple) else outputs\n",
    "                    logits = logits[:, -1, :]  # Get the logits for the last token produced\n",
    "\n",
    "                    # Apply top-k and top-p filtering\n",
    "                    filtered_logits = top_k_top_p_filtering(logits.squeeze(0), top_k=top_k, top_p=top_p)\n",
    "                    probabilities = F.softmax(filtered_logits, dim=-1)\n",
    "                    \n",
    "                    # Sample from the filtered distribution\n",
    "                    next_token_id = torch.multinomial(probabilities, 1).unsqueeze(0)\n",
    "\n",
    "                    # Check for eos_token_id\n",
    "                    if next_token_id == eos_token_id:\n",
    "                        break\n",
    "\n",
    "                    # Append generated token ID to generated sequence\n",
    "                    generated = torch.cat((generated, next_token_id), dim=1)\n",
    "\n",
    "                generated_sequences.append(generated)\n",
    "\n",
    "        return generated_sequences\n",
    "    \n",
    "    \n",
    "    def save_pretrained(self, save_directory):\n",
    "        os.makedirs(save_directory, exist_ok=True)\n",
    "        model_to_save = self.module if hasattr(self, 'module') else self\n",
    "        torch.save(model_to_save.state_dict(), os.path.join(save_directory, 'pytorch_model.bin'))\n",
    "        with open(os.path.join(save_directory, 'config.json'), 'w') as f:\n",
    "            json.dump(self.config.__dict__, f)\n",
    "\n",
    "\n",
    "def top_k_top_p_filtering(logits, top_k=0, top_p=0.0, filter_value=-float('Inf')):\n",
    "    top_k = min(top_k, logits.size(-1))  # Safety check\n",
    "    if top_k > 0:\n",
    "        indices_to_remove = logits < torch.topk(logits, top_k)[0][..., -1, None]\n",
    "        logits[indices_to_remove] = filter_value\n",
    "\n",
    "    if top_p < 1.0:\n",
    "        sorted_logits, sorted_indices = torch.sort(logits, descending=True)\n",
    "        cumulative_probs = torch.cumsum(F.softmax(sorted_logits, dim=-1), dim=-1)\n",
    "        sorted_indices_to_remove = cumulative_probs > top_p\n",
    "        sorted_indices_to_remove[..., 1:] = sorted_indices_to_remove[..., :-1].clone()\n",
    "        sorted_indices_to_remove[..., 0] = 0\n",
    "        indices_to_remove = sorted_indices[sorted_indices_to_remove]\n",
    "        logits[indices_to_remove] = filter_value\n",
    "\n",
    "    return logits\n",
    "\n"
   ]
  },
  {
   "cell_type": "code",
   "execution_count": null,
   "id": "d4f9580e",
   "metadata": {},
   "outputs": [],
   "source": [
    "# Load the question-answer dataset\n",
    "df = pd.read_csv(args.input_file_path)\n",
    "\n",
    "# Add marks for original promp and repsonse marks\n",
    "df['question'] = '[WP]' + df['question'] \n",
    "df['answer'] = '\\n[RESPONSE]' + df['answer']\n",
    "\n",
    "# merge just question and answer into one\n",
    "howtos = df[\"question\"] + df[\"answer\"] \n",
    "\n",
    "# clean up by removing certain characters or patterns that may cause issues downstream\n",
    "howtos.str.replace('\"', '').str.replace('\\n,\\n', '').str.replace('``', '').str.replace(',,', ',')\n",
    "\n",
    "\n",
    "# Load the GPT tokenizer and add special tokens.\n",
    "tokenizer = GPT2Tokenizer.from_pretrained('gpt2', \n",
    "                                          bos_token='<|startoftext|>', \n",
    "                                          eos_token='<|endoftext|>', \n",
    "                                          pad_token='<|pad|>')\n",
    "\n",
    "\n"
   ]
  },
  {
   "cell_type": "code",
   "execution_count": null,
   "id": "bc1f7717",
   "metadata": {},
   "outputs": [
    {
     "name": "stderr",
     "output_type": "stream",
     "text": [
      "[nltk_data] Downloading package punkt to\n",
      "[nltk_data]     C:\\Users\\yzhang21\\AppData\\Roaming\\nltk_data...\n",
      "[nltk_data]   Package punkt is already up-to-date!\n"
     ]
    },
    {
     "data": {
      "text/plain": [
       "<Figure size 2000x1000 with 0 Axes>"
      ]
     },
     "metadata": {},
     "output_type": "display_data"
    },
    {
     "data": {
      "image/png": "[encoded data removed]",
      "text/plain": [
       "<Figure size 500x500 with 1 Axes>"
      ]
     },
     "metadata": {},
     "output_type": "display_data"
    }
   ],
   "source": [
    "nltk.download('punkt')\n",
    "# check distribution of the answers' length\n",
    "doc_lengths = []  \n",
    "\n",
    "for howto in howtos: \n",
    "    # Tokenize the \"howto\" text into individual words and get the length of the tokenized text\n",
    "    tokens = nltk.word_tokenize(howto)\n",
    "    doc_lengths.append(len(tokens))  \n",
    "    \n",
    "# Convert the list of lengths into a NumPy array for easier manipulation\n",
    "doc_lengths = np.array(doc_lengths)  \n",
    "plt.figure(figsize=(20, 10))  \n",
    "# Set the style of the seaborn plots to \"whitegrid\"\n",
    "sns.set(style=\"whitegrid\")  \n",
    "\n",
    "# Plot the distribution of document lengths using a histogram (displot) with a kernel density estimate (kde)\n",
    "sns.displot(doc_lengths, color=\"blue\", kde=True)\n",
    "\n",
    "# Display the plot\n",
    "plt.show()"
   ]
  },
  {
   "cell_type": "markdown",
   "id": "6b926ca6",
   "metadata": {},
   "source": [
    "# Custom Dataset"
   ]
  },
  {
   "cell_type": "code",
   "execution_count": null,
   "id": "bf9855f2",
   "metadata": {},
   "outputs": [],
   "source": [
    "# Defining a PyTorch dataset class called GPT2Dataset that prepares text data for use with a GPT-2 language model\n",
    "class GPT2Dataset(Dataset):\n",
    "    # Define the class constructor method\n",
    "    def __init__(self, txt_list, tokenizer, gpt2_type=\"gpt2\", max_length=512):\n",
    "        \n",
    "        # Store the tokenizer and initialize the input_ids and attn_masks lists\n",
    "        self.tokenizer = tokenizer\n",
    "        self.input_ids = []\n",
    "        self.attn_masks = []\n",
    "        \n",
    "        # Iterate through each text sample in txt_list\n",
    "        for txt in txt_list:\n",
    "            \n",
    "            # Tokenize the text sample using the tokenizer and truncate it if necessary\n",
    "            text = txt\n",
    "            encodings_dict = tokenizer('<|startoftext|>'+ text + '<|endoftext|>', truncation=True, max_length=max_length, padding=\"max_length\")\n",
    "            \n",
    "            # Add the tokenized input and attention mask to their respective lists\n",
    "            self.input_ids.append(torch.tensor(encodings_dict['input_ids']))\n",
    "            self.attn_masks.append(torch.tensor(encodings_dict['attention_mask']))\n",
    "            \n",
    "    # Define the __len__ method, which returns the number of input samples in the dataset\n",
    "    def __len__(self):\n",
    "        return len(self.input_ids)\n",
    "    \n",
    "    # Define the __getitem__ method, which returns the input sample and corresponding attention mask at a given index\n",
    "    def __getitem__(self, idx):\n",
    "        return self.input_ids[idx], self.attn_masks[idx] \n"
   ]
  },
  {
   "cell_type": "code",
   "execution_count": null,
   "id": "eca733f9",
   "metadata": {},
   "outputs": [],
   "source": [
    "dataset = GPT2Dataset(howtos, tokenizer, max_length=512)\n",
    "\n",
    "# Split the dataset into training and validation sets with a 80/20 split\n",
    "train_size = int(0.8 * len(dataset))\n",
    "val_size = len(dataset) - train_size\n",
    "\n",
    "train_dataset, val_dataset = random_split(dataset, [train_size, val_size])\n",
    "\n",
    "\n",
    "# Create a PyTorch DataLoader instance for the training set \n",
    "train_dataloader = DataLoader(\n",
    "            train_dataset,  # The training dataset\n",
    "            sampler = RandomSampler(train_dataset), # Randomly sample elements from the training dataset\n",
    "            batch_size = args.batch_size # The number of samples per batch to load\n",
    "        )\n",
    "\n",
    "# Create a PyTorch DataLoader instance for the validation set\n",
    "validation_dataloader = DataLoader(\n",
    "            val_dataset, # The validation dataset\n",
    "            sampler = SequentialSampler(val_dataset), # Iterate through the validation dataset sequentially\n",
    "            batch_size = args.batch_size # The number of samples per batch to load\n",
    "        )\n"
   ]
  },
  {
   "cell_type": "markdown",
   "id": "075d80f7",
   "metadata": {},
   "source": [
    "# Model Initialization"
   ]
  },
  {
   "cell_type": "code",
   "execution_count": null,
   "id": "3e62bdd5",
   "metadata": {},
   "outputs": [],
   "source": [
    "# Load the tokenizer\n",
    "tokenizer = GPT2Tokenizer.from_pretrained(args.output_dir_sent)\n",
    "\n",
    "# Load the trained model\n",
    "\n",
    "model_config = GPT2Config.from_pretrained('gpt2', vocab_size=len(tokenizer))\n",
    "model = CustomGPT2LMHeadModel(model_config)\n",
    "\n",
    "# Resize the model's token embeddings to match the size of the tokenizer's vocabulary\n",
    "# This step is necessary if any special tokens have been added to the tokenizer\n",
    "model.resize_token_embeddings(len(tokenizer))\n",
    "\n",
    "# pytorch to run this model on the GPU.\n",
    "device = args.device\n",
    "\n",
    "# Move model to available device\n",
    "model = model.to(device)\n",
    "\n",
    "# Check if multiple GPUs are available\n",
    "if torch.cuda.device_count() > 0:\n",
    "    # Wrap the model with DataParallel\n",
    "    model = DataParallel(model)\n",
    "\n",
    "\n",
    "\n",
    "optimizer = optim.AdamW(model.parameters(),\n",
    "                        lr=args.learning_rate,\n",
    "                        eps=args.epsilon,\n",
    "                       weight_decay = args.weight_decay)\n",
    "\n",
    "# Calculate the total number of training steps.\n",
    "# This is the number of batches in the training data multiplied by the number of epochs.\n",
    "total_steps = len(train_dataloader) * args.epochs\n",
    "\n",
    "scheduler = get_linear_schedule_with_warmup(optimizer, \n",
    "                                            num_warmup_steps = args.warmup_steps, \n",
    "                                            num_training_steps = total_steps)\n",
    "\n",
    "def format_time(elapsed):\n",
    "    return str(datetime.timedelta(seconds=int(round((elapsed)))))\n",
    "\n",
    "# Release all unused memory that is held by the GPU memory cache\n",
    "torch.cuda.empty_cache()\n",
    "\n",
    "total_t0 = time.time()\n",
    "\n",
    "training_stats = []\n",
    "\n"
   ]
  },
  {
   "cell_type": "code",
   "execution_count": null,
   "id": "df546399",
   "metadata": {},
   "outputs": [],
   "source": [
    "# If the directory does not exist, it is created\n",
    "if not os.path.exists(args.output_dir):\n",
    "    os.makedirs(args.output_dir)"
   ]
  },
  {
   "cell_type": "code",
   "execution_count": null,
   "id": "96689310",
   "metadata": {},
   "outputs": [
    {
     "name": "stdout",
     "output_type": "stream",
     "text": [
      "|===========================================================================|\n",
      "|                  PyTorch CUDA memory summary, device ID 0                 |\n",
      "|---------------------------------------------------------------------------|\n",
      "|            CUDA OOMs: 0            |        cudaMalloc retries: 0         |\n",
      "|===========================================================================|\n",
      "|        Metric         | Cur Usage  | Peak Usage | Tot Alloc  | Tot Freed  |\n",
      "|---------------------------------------------------------------------------|\n",
      "| Allocated memory      | 650720 KiB | 650720 KiB | 650720 KiB |      0 B   |\n",
      "|       from large pool | 637952 KiB | 637952 KiB | 637952 KiB |      0 B   |\n",
      "|       from small pool |  12768 KiB |  12768 KiB |  12768 KiB |      0 B   |\n",
      "|---------------------------------------------------------------------------|\n",
      "| Active memory         | 650720 KiB | 650720 KiB | 650720 KiB |      0 B   |\n",
      "|       from large pool | 637952 KiB | 637952 KiB | 637952 KiB |      0 B   |\n",
      "|       from small pool |  12768 KiB |  12768 KiB |  12768 KiB |      0 B   |\n",
      "|---------------------------------------------------------------------------|\n",
      "| Requested memory      | 649164 KiB | 649164 KiB | 649164 KiB |      0 B   |\n",
      "|       from large pool | 636402 KiB | 636402 KiB | 636402 KiB |      0 B   |\n",
      "|       from small pool |  12762 KiB |  12762 KiB |  12762 KiB |      0 B   |\n",
      "|---------------------------------------------------------------------------|\n",
      "| GPU reserved memory   | 706560 KiB | 706560 KiB | 706560 KiB |      0 B   |\n",
      "|       from large pool | 692224 KiB | 692224 KiB | 692224 KiB |      0 B   |\n",
      "|       from small pool |  14336 KiB |  14336 KiB |  14336 KiB |      0 B   |\n",
      "|---------------------------------------------------------------------------|\n",
      "| Non-releasable memory |  55840 KiB |  55849 KiB | 269821 KiB | 213981 KiB |\n",
      "|       from large pool |  54272 KiB |  54272 KiB | 261632 KiB | 207360 KiB |\n",
      "|       from small pool |   1568 KiB |   2045 KiB |   8189 KiB |   6621 KiB |\n",
      "|---------------------------------------------------------------------------|\n",
      "| Allocations           |     173    |     173    |     173    |       0    |\n",
      "|       from large pool |      51    |      51    |      51    |       0    |\n",
      "|       from small pool |     122    |     122    |     122    |       0    |\n",
      "|---------------------------------------------------------------------------|\n",
      "| Active allocs         |     173    |     173    |     173    |       0    |\n",
      "|       from large pool |      51    |      51    |      51    |       0    |\n",
      "|       from small pool |     122    |     122    |     122    |       0    |\n",
      "|---------------------------------------------------------------------------|\n",
      "| GPU reserved segments |      28    |      28    |      28    |       0    |\n",
      "|       from large pool |      21    |      21    |      21    |       0    |\n",
      "|       from small pool |       7    |       7    |       7    |       0    |\n",
      "|---------------------------------------------------------------------------|\n",
      "| Non-releasable allocs |      21    |      21    |      26    |       5    |\n",
      "|       from large pool |      19    |      19    |      19    |       0    |\n",
      "|       from small pool |       2    |       2    |       7    |       5    |\n",
      "|---------------------------------------------------------------------------|\n",
      "| Oversize allocations  |       0    |       0    |       0    |       0    |\n",
      "|---------------------------------------------------------------------------|\n",
      "| Oversize GPU segments |       0    |       0    |       0    |       0    |\n",
      "|===========================================================================|\n",
      "\n"
     ]
    }
   ],
   "source": [
    "# Clear the GPU memory cache to free up memory\n",
    "torch.cuda.empty_cache()\n",
    "# Display a summary of GPU memory usage\n",
    "memory_summary = torch.cuda.memory_summary(device=None, abbreviated=False)\n",
    "# Print the memory summary\n",
    "print(memory_summary)"
   ]
  },
  {
   "cell_type": "code",
   "execution_count": null,
   "id": "8675a9d6",
   "metadata": {},
   "outputs": [
    {
     "name": "stderr",
     "output_type": "stream",
     "text": [
      "Epoch 1/100 - Training: 100%|██████████| 1667/1667 [09:09<00:00,  3.03batch/s, loss=0.722] \n",
      "Epoch 1/100 - Validation: 100%|██████████| 417/417 [00:21<00:00, 19.39batch/s, loss=0.593]\n"
     ]
    },
    {
     "name": "stdout",
     "output_type": "stream",
     "text": [
      "Average loss => Training: 0.86 | Validation: 0.59\n",
      "Model Saved\n",
      "\n",
      "\n"
     ]
    },
    {
     "name": "stderr",
     "output_type": "stream",
     "text": [
      "Epoch 2/100 - Training: 100%|██████████| 1667/1667 [09:08<00:00,  3.04batch/s, loss=0.425] \n",
      "Epoch 2/100 - Validation: 100%|██████████| 417/417 [00:21<00:00, 19.01batch/s, loss=0.531]\n"
     ]
    },
    {
     "name": "stdout",
     "output_type": "stream",
     "text": [
      "Average loss => Training: 0.57 | Validation: 0.53\n",
      "Model Saved\n",
      "\n",
      "\n"
     ]
    },
    {
     "name": "stderr",
     "output_type": "stream",
     "text": [
      "Epoch 3/100 - Training: 100%|██████████| 1667/1667 [09:05<00:00,  3.06batch/s, loss=0.485] \n",
      "Epoch 3/100 - Validation: 100%|██████████| 417/417 [00:21<00:00, 19.08batch/s, loss=0.472]\n"
     ]
    },
    {
     "name": "stdout",
     "output_type": "stream",
     "text": [
      "Average loss => Training: 0.50 | Validation: 0.47\n",
      "Model Saved\n",
      "\n",
      "\n"
     ]
    },
    {
     "name": "stderr",
     "output_type": "stream",
     "text": [
      "Epoch 4/100 - Training: 100%|██████████| 1667/1667 [09:06<00:00,  3.05batch/s, loss=0.512] \n",
      "Epoch 4/100 - Validation: 100%|██████████| 417/417 [00:21<00:00, 19.07batch/s, loss=0.421]\n"
     ]
    },
    {
     "name": "stdout",
     "output_type": "stream",
     "text": [
      "Average loss => Training: 0.43 | Validation: 0.42\n",
      "Model Saved\n",
      "\n",
      "\n"
     ]
    },
    {
     "name": "stderr",
     "output_type": "stream",
     "text": [
      "Epoch 5/100 - Training: 100%|██████████| 1667/1667 [09:04<00:00,  3.06batch/s, loss=0.337] \n",
      "Epoch 5/100 - Validation: 100%|██████████| 417/417 [00:21<00:00, 19.11batch/s, loss=0.399]\n"
     ]
    },
    {
     "name": "stdout",
     "output_type": "stream",
     "text": [
      "Average loss => Training: 0.39 | Validation: 0.40\n",
      "Model Saved\n",
      "\n",
      "\n"
     ]
    },
    {
     "name": "stderr",
     "output_type": "stream",
     "text": [
      "Epoch 6/100 - Training: 100%|██████████| 1667/1667 [09:04<00:00,  3.06batch/s, loss=0.415] \n",
      "Epoch 6/100 - Validation: 100%|██████████| 417/417 [00:21<00:00, 19.06batch/s, loss=0.38] \n"
     ]
    },
    {
     "name": "stdout",
     "output_type": "stream",
     "text": [
      "Average loss => Training: 0.35 | Validation: 0.38\n",
      "Model Saved\n",
      "\n",
      "\n"
     ]
    },
    {
     "name": "stderr",
     "output_type": "stream",
     "text": [
      "Epoch 7/100 - Training: 100%|██████████| 1667/1667 [09:03<00:00,  3.07batch/s, loss=0.269] \n",
      "Epoch 7/100 - Validation: 100%|██████████| 417/417 [00:21<00:00, 19.06batch/s, loss=0.365]\n"
     ]
    },
    {
     "name": "stdout",
     "output_type": "stream",
     "text": [
      "Average loss => Training: 0.32 | Validation: 0.36\n",
      "Model Saved\n",
      "\n",
      "\n"
     ]
    },
    {
     "name": "stderr",
     "output_type": "stream",
     "text": [
      "Epoch 8/100 - Training: 100%|██████████| 1667/1667 [09:08<00:00,  3.04batch/s, loss=0.208] \n",
      "Epoch 8/100 - Validation: 100%|██████████| 417/417 [00:21<00:00, 19.09batch/s, loss=0.355]\n"
     ]
    },
    {
     "name": "stdout",
     "output_type": "stream",
     "text": [
      "Average loss => Training: 0.29 | Validation: 0.35\n",
      "Model Saved\n",
      "\n",
      "\n"
     ]
    },
    {
     "name": "stderr",
     "output_type": "stream",
     "text": [
      "Epoch 9/100 - Training: 100%|██████████| 1667/1667 [09:05<00:00,  3.06batch/s, loss=0.409] \n",
      "Epoch 9/100 - Validation: 100%|██████████| 417/417 [00:21<00:00, 19.04batch/s, loss=0.345]\n"
     ]
    },
    {
     "name": "stdout",
     "output_type": "stream",
     "text": [
      "Average loss => Training: 0.26 | Validation: 0.35\n",
      "Model Saved\n",
      "\n",
      "\n"
     ]
    },
    {
     "name": "stderr",
     "output_type": "stream",
     "text": [
      "Epoch 10/100 - Training: 100%|██████████| 1667/1667 [09:07<00:00,  3.04batch/s, loss=0.189] \n",
      "Epoch 10/100 - Validation: 100%|██████████| 417/417 [00:21<00:00, 19.02batch/s, loss=0.341]\n"
     ]
    },
    {
     "name": "stdout",
     "output_type": "stream",
     "text": [
      "Average loss => Training: 0.24 | Validation: 0.34\n",
      "Model Saved\n",
      "\n",
      "\n"
     ]
    },
    {
     "name": "stderr",
     "output_type": "stream",
     "text": [
      "Epoch 11/100 - Training: 100%|██████████| 1667/1667 [09:05<00:00,  3.05batch/s, loss=0.176] \n",
      "Epoch 11/100 - Validation: 100%|██████████| 417/417 [00:21<00:00, 19.17batch/s, loss=0.339]\n"
     ]
    },
    {
     "name": "stdout",
     "output_type": "stream",
     "text": [
      "Average loss => Training: 0.22 | Validation: 0.34\n",
      "Model Saved\n",
      "\n",
      "\n"
     ]
    },
    {
     "name": "stderr",
     "output_type": "stream",
     "text": [
      "Epoch 12/100 - Training: 100%|██████████| 1667/1667 [09:08<00:00,  3.04batch/s, loss=0.0851]\n",
      "Epoch 12/100 - Validation: 100%|██████████| 417/417 [00:21<00:00, 19.13batch/s, loss=0.339]\n"
     ]
    },
    {
     "name": "stdout",
     "output_type": "stream",
     "text": [
      "Average loss => Training: 0.19 | Validation: 0.34\n",
      "Model Saved\n",
      "\n",
      "\n"
     ]
    },
    {
     "name": "stderr",
     "output_type": "stream",
     "text": [
      "Epoch 13/100 - Training: 100%|██████████| 1667/1667 [09:07<00:00,  3.04batch/s, loss=0.126] \n",
      "Epoch 13/100 - Validation: 100%|██████████| 417/417 [00:21<00:00, 18.99batch/s, loss=0.342]\n"
     ]
    },
    {
     "name": "stdout",
     "output_type": "stream",
     "text": [
      "Average loss => Training: 0.18 | Validation: 0.34\n",
      "Model Saved\n",
      "\n",
      "\n"
     ]
    },
    {
     "name": "stderr",
     "output_type": "stream",
     "text": [
      "Epoch 14/100 - Training: 100%|██████████| 1667/1667 [09:08<00:00,  3.04batch/s, loss=0.19]   \n",
      "Epoch 14/100 - Validation: 100%|██████████| 417/417 [00:21<00:00, 19.03batch/s, loss=0.344]\n"
     ]
    },
    {
     "name": "stdout",
     "output_type": "stream",
     "text": [
      "Average loss => Training: 0.16 | Validation: 0.34\n",
      "Model Saved\n",
      "\n",
      "\n"
     ]
    },
    {
     "name": "stderr",
     "output_type": "stream",
     "text": [
      "Epoch 15/100 - Training: 100%|██████████| 1667/1667 [09:08<00:00,  3.04batch/s, loss=0.152] \n",
      "Epoch 15/100 - Validation: 100%|██████████| 417/417 [00:21<00:00, 19.06batch/s, loss=0.348]\n"
     ]
    },
    {
     "name": "stdout",
     "output_type": "stream",
     "text": [
      "Average loss => Training: 0.14 | Validation: 0.35\n",
      "Model Saved\n",
      "\n",
      "\n"
     ]
    },
    {
     "name": "stderr",
     "output_type": "stream",
     "text": [
      "Epoch 16/100 - Training: 100%|██████████| 1667/1667 [09:10<00:00,  3.03batch/s, loss=0.226]  \n",
      "Epoch 16/100 - Validation: 100%|██████████| 417/417 [00:21<00:00, 19.07batch/s, loss=0.354]\n"
     ]
    },
    {
     "name": "stdout",
     "output_type": "stream",
     "text": [
      "Average loss => Training: 0.12 | Validation: 0.35\n",
      "Model Saved\n",
      "\n",
      "\n"
     ]
    },
    {
     "name": "stderr",
     "output_type": "stream",
     "text": [
      "Epoch 17/100 - Training: 100%|██████████| 1667/1667 [09:34<00:00,  2.90batch/s, loss=0.127]  \n",
      "Epoch 17/100 - Validation: 100%|██████████| 417/417 [00:24<00:00, 17.27batch/s, loss=0.359]\n"
     ]
    },
    {
     "name": "stdout",
     "output_type": "stream",
     "text": [
      "Average loss => Training: 0.11 | Validation: 0.36\n",
      "Model Saved\n",
      "\n",
      "\n"
     ]
    },
    {
     "name": "stderr",
     "output_type": "stream",
     "text": [
      "Epoch 18/100 - Training: 100%|██████████| 1667/1667 [10:11<00:00,  2.73batch/s, loss=0.0994] \n",
      "Epoch 18/100 - Validation: 100%|██████████| 417/417 [00:24<00:00, 17.23batch/s, loss=0.369]\n"
     ]
    },
    {
     "name": "stdout",
     "output_type": "stream",
     "text": [
      "Average loss => Training: 0.10 | Validation: 0.37\n",
      "Model Saved\n",
      "\n",
      "\n"
     ]
    },
    {
     "name": "stderr",
     "output_type": "stream",
     "text": [
      "Epoch 19/100 - Training: 100%|██████████| 1667/1667 [10:07<00:00,  2.74batch/s, loss=0.0659] \n",
      "Epoch 19/100 - Validation: 100%|██████████| 417/417 [00:24<00:00, 17.25batch/s, loss=0.374]\n"
     ]
    },
    {
     "name": "stdout",
     "output_type": "stream",
     "text": [
      "Average loss => Training: 0.09 | Validation: 0.37\n",
      "Model Saved\n",
      "\n",
      "\n"
     ]
    },
    {
     "name": "stderr",
     "output_type": "stream",
     "text": [
      "Epoch 20/100 - Training: 100%|██████████| 1667/1667 [10:08<00:00,  2.74batch/s, loss=0.0634] \n",
      "Epoch 20/100 - Validation: 100%|██████████| 417/417 [00:24<00:00, 17.32batch/s, loss=0.381]\n"
     ]
    },
    {
     "name": "stdout",
     "output_type": "stream",
     "text": [
      "Average loss => Training: 0.08 | Validation: 0.38\n",
      "Model Saved\n",
      "\n",
      "\n"
     ]
    },
    {
     "name": "stderr",
     "output_type": "stream",
     "text": [
      "Epoch 21/100 - Training: 100%|██████████| 1667/1667 [10:03<00:00,  2.76batch/s, loss=0.0573] \n",
      "Epoch 21/100 - Validation: 100%|██████████| 417/417 [00:24<00:00, 17.31batch/s, loss=0.389]\n"
     ]
    },
    {
     "name": "stdout",
     "output_type": "stream",
     "text": [
      "Average loss => Training: 0.07 | Validation: 0.39\n",
      "Model Saved\n",
      "\n",
      "\n"
     ]
    },
    {
     "name": "stderr",
     "output_type": "stream",
     "text": [
      "Epoch 22/100 - Training: 100%|██████████| 1667/1667 [09:59<00:00,  2.78batch/s, loss=0.0681] \n",
      "Epoch 22/100 - Validation: 100%|██████████| 417/417 [00:24<00:00, 17.29batch/s, loss=0.398]\n"
     ]
    },
    {
     "name": "stdout",
     "output_type": "stream",
     "text": [
      "Average loss => Training: 0.06 | Validation: 0.40\n",
      "Model Saved\n",
      "\n",
      "\n"
     ]
    },
    {
     "name": "stderr",
     "output_type": "stream",
     "text": [
      "Epoch 23/100 - Training: 100%|██████████| 1667/1667 [09:54<00:00,  2.80batch/s, loss=0.0407] \n",
      "Epoch 23/100 - Validation: 100%|██████████| 417/417 [00:24<00:00, 17.25batch/s, loss=0.403]\n"
     ]
    },
    {
     "name": "stdout",
     "output_type": "stream",
     "text": [
      "Average loss => Training: 0.06 | Validation: 0.40\n",
      "Model Saved\n",
      "\n",
      "\n"
     ]
    },
    {
     "name": "stderr",
     "output_type": "stream",
     "text": [
      "Epoch 24/100 - Training: 100%|██████████| 1667/1667 [09:54<00:00,  2.80batch/s, loss=0.055]  \n",
      "Epoch 24/100 - Validation: 100%|██████████| 417/417 [00:23<00:00, 17.42batch/s, loss=0.407]\n"
     ]
    },
    {
     "name": "stdout",
     "output_type": "stream",
     "text": [
      "Average loss => Training: 0.05 | Validation: 0.41\n",
      "Model Saved\n",
      "\n",
      "\n"
     ]
    },
    {
     "name": "stderr",
     "output_type": "stream",
     "text": [
      "Epoch 25/100 - Training: 100%|██████████| 1667/1667 [09:56<00:00,  2.80batch/s, loss=0.0396] \n",
      "Epoch 25/100 - Validation: 100%|██████████| 417/417 [00:24<00:00, 17.36batch/s, loss=0.415]\n"
     ]
    },
    {
     "name": "stdout",
     "output_type": "stream",
     "text": [
      "Average loss => Training: 0.05 | Validation: 0.41\n",
      "Model Saved\n",
      "\n",
      "\n"
     ]
    },
    {
     "name": "stderr",
     "output_type": "stream",
     "text": [
      "Epoch 26/100 - Training: 100%|██████████| 1667/1667 [09:55<00:00,  2.80batch/s, loss=0.0512] \n",
      "Epoch 26/100 - Validation: 100%|██████████| 417/417 [00:24<00:00, 17.25batch/s, loss=0.419]\n"
     ]
    },
    {
     "name": "stdout",
     "output_type": "stream",
     "text": [
      "Average loss => Training: 0.05 | Validation: 0.42\n",
      "Model Saved\n",
      "\n",
      "\n"
     ]
    },
    {
     "name": "stderr",
     "output_type": "stream",
     "text": [
      "Epoch 27/100 - Training: 100%|██████████| 1667/1667 [10:00<00:00,  2.77batch/s, loss=0.0358] \n",
      "Epoch 27/100 - Validation: 100%|██████████| 417/417 [00:24<00:00, 17.27batch/s, loss=0.424]\n"
     ]
    },
    {
     "name": "stdout",
     "output_type": "stream",
     "text": [
      "Average loss => Training: 0.04 | Validation: 0.42\n",
      "Model Saved\n",
      "\n",
      "\n"
     ]
    },
    {
     "name": "stderr",
     "output_type": "stream",
     "text": [
      "Epoch 28/100 - Training: 100%|██████████| 1667/1667 [09:59<00:00,  2.78batch/s, loss=0.0431] \n",
      "Epoch 28/100 - Validation: 100%|██████████| 417/417 [00:24<00:00, 17.21batch/s, loss=0.427]\n"
     ]
    },
    {
     "name": "stdout",
     "output_type": "stream",
     "text": [
      "Average loss => Training: 0.04 | Validation: 0.43\n",
      "Model Saved\n",
      "\n",
      "\n"
     ]
    },
    {
     "name": "stderr",
     "output_type": "stream",
     "text": [
      "Epoch 29/100 - Training: 100%|██████████| 1667/1667 [09:57<00:00,  2.79batch/s, loss=0.0573] \n",
      "Epoch 29/100 - Validation: 100%|██████████| 417/417 [00:23<00:00, 17.40batch/s, loss=0.432]\n"
     ]
    },
    {
     "name": "stdout",
     "output_type": "stream",
     "text": [
      "Average loss => Training: 0.04 | Validation: 0.43\n",
      "Model Saved\n",
      "\n",
      "\n"
     ]
    },
    {
     "name": "stderr",
     "output_type": "stream",
     "text": [
      "Epoch 30/100 - Training: 100%|██████████| 1667/1667 [10:05<00:00,  2.75batch/s, loss=0.0246] \n",
      "Epoch 30/100 - Validation: 100%|██████████| 417/417 [00:24<00:00, 17.33batch/s, loss=0.435]\n"
     ]
    },
    {
     "name": "stdout",
     "output_type": "stream",
     "text": [
      "Average loss => Training: 0.04 | Validation: 0.44\n",
      "Model Saved\n",
      "\n",
      "\n"
     ]
    },
    {
     "name": "stderr",
     "output_type": "stream",
     "text": [
      "Epoch 31/100 - Training: 100%|██████████| 1667/1667 [10:21<00:00,  2.68batch/s, loss=0.0483] \n",
      "Epoch 31/100 - Validation: 100%|██████████| 417/417 [00:23<00:00, 17.43batch/s, loss=0.435]\n"
     ]
    },
    {
     "name": "stdout",
     "output_type": "stream",
     "text": [
      "Average loss => Training: 0.04 | Validation: 0.43\n",
      "Model Saved\n",
      "\n",
      "\n"
     ]
    },
    {
     "name": "stderr",
     "output_type": "stream",
     "text": [
      "Epoch 32/100 - Training: 100%|██████████| 1667/1667 [10:22<00:00,  2.68batch/s, loss=0.044]  \n",
      "Epoch 32/100 - Validation: 100%|██████████| 417/417 [00:23<00:00, 17.45batch/s, loss=0.44] \n"
     ]
    },
    {
     "name": "stdout",
     "output_type": "stream",
     "text": [
      "Average loss => Training: 0.03 | Validation: 0.44\n",
      "Model Saved\n",
      "\n",
      "\n"
     ]
    },
    {
     "name": "stderr",
     "output_type": "stream",
     "text": [
      "Epoch 33/100 - Training: 100%|██████████| 1667/1667 [10:18<00:00,  2.70batch/s, loss=0.0373] \n",
      "Epoch 33/100 - Validation: 100%|██████████| 417/417 [00:23<00:00, 17.42batch/s, loss=0.441]\n"
     ]
    },
    {
     "name": "stdout",
     "output_type": "stream",
     "text": [
      "Average loss => Training: 0.03 | Validation: 0.44\n",
      "Model Saved\n",
      "\n",
      "\n"
     ]
    },
    {
     "name": "stderr",
     "output_type": "stream",
     "text": [
      "Epoch 34/100 - Training: 100%|██████████| 1667/1667 [10:18<00:00,  2.70batch/s, loss=0.0271] \n",
      "Epoch 34/100 - Validation: 100%|██████████| 417/417 [00:23<00:00, 17.45batch/s, loss=0.442]\n"
     ]
    },
    {
     "name": "stdout",
     "output_type": "stream",
     "text": [
      "Average loss => Training: 0.03 | Validation: 0.44\n",
      "Model Saved\n",
      "\n",
      "\n"
     ]
    },
    {
     "name": "stderr",
     "output_type": "stream",
     "text": [
      "Epoch 35/100 - Training: 100%|██████████| 1667/1667 [10:13<00:00,  2.72batch/s, loss=0.0386] \n",
      "Epoch 35/100 - Validation: 100%|██████████| 417/417 [00:24<00:00, 17.28batch/s, loss=0.447]\n"
     ]
    },
    {
     "name": "stdout",
     "output_type": "stream",
     "text": [
      "Average loss => Training: 0.03 | Validation: 0.45\n",
      "Model Saved\n",
      "\n",
      "\n"
     ]
    },
    {
     "name": "stderr",
     "output_type": "stream",
     "text": [
      "Epoch 36/100 - Training: 100%|██████████| 1667/1667 [10:17<00:00,  2.70batch/s, loss=0.0375] \n",
      "Epoch 36/100 - Validation: 100%|██████████| 417/417 [00:24<00:00, 17.31batch/s, loss=0.448]\n"
     ]
    },
    {
     "name": "stdout",
     "output_type": "stream",
     "text": [
      "Average loss => Training: 0.03 | Validation: 0.45\n",
      "Model Saved\n",
      "\n",
      "\n"
     ]
    },
    {
     "name": "stderr",
     "output_type": "stream",
     "text": [
      "Epoch 37/100 - Training: 100%|██████████| 1667/1667 [09:51<00:00,  2.82batch/s, loss=0.0326] \n",
      "Epoch 37/100 - Validation: 100%|██████████| 417/417 [00:22<00:00, 18.71batch/s, loss=0.446]\n"
     ]
    },
    {
     "name": "stdout",
     "output_type": "stream",
     "text": [
      "Average loss => Training: 0.03 | Validation: 0.45\n",
      "Model Saved\n",
      "\n",
      "\n"
     ]
    },
    {
     "name": "stderr",
     "output_type": "stream",
     "text": [
      "Epoch 38/100 - Training: 100%|██████████| 1667/1667 [09:52<00:00,  2.82batch/s, loss=0.0342] \n",
      "Epoch 38/100 - Validation: 100%|██████████| 417/417 [00:22<00:00, 18.72batch/s, loss=0.45] \n"
     ]
    },
    {
     "name": "stdout",
     "output_type": "stream",
     "text": [
      "Average loss => Training: 0.03 | Validation: 0.45\n",
      "Model Saved\n",
      "\n",
      "\n"
     ]
    },
    {
     "name": "stderr",
     "output_type": "stream",
     "text": [
      "Epoch 39/100 - Training: 100%|██████████| 1667/1667 [09:39<00:00,  2.87batch/s, loss=0.0233] \n",
      "Epoch 39/100 - Validation: 100%|██████████| 417/417 [00:22<00:00, 18.80batch/s, loss=0.452]\n"
     ]
    },
    {
     "name": "stdout",
     "output_type": "stream",
     "text": [
      "Average loss => Training: 0.03 | Validation: 0.45\n",
      "Model Saved\n",
      "\n",
      "\n"
     ]
    },
    {
     "name": "stderr",
     "output_type": "stream",
     "text": [
      "Epoch 40/100 - Training: 100%|██████████| 1667/1667 [09:30<00:00,  2.92batch/s, loss=0.0224] \n",
      "Epoch 40/100 - Validation: 100%|██████████| 417/417 [00:22<00:00, 18.76batch/s, loss=0.453]\n"
     ]
    },
    {
     "name": "stdout",
     "output_type": "stream",
     "text": [
      "Average loss => Training: 0.03 | Validation: 0.45\n",
      "Model Saved\n",
      "\n",
      "\n"
     ]
    },
    {
     "name": "stderr",
     "output_type": "stream",
     "text": [
      "Epoch 41/100 - Training: 100%|██████████| 1667/1667 [09:30<00:00,  2.92batch/s, loss=0.0242] \n",
      "Epoch 41/100 - Validation: 100%|██████████| 417/417 [00:22<00:00, 18.67batch/s, loss=0.456]\n"
     ]
    },
    {
     "name": "stdout",
     "output_type": "stream",
     "text": [
      "Average loss => Training: 0.03 | Validation: 0.46\n",
      "Model Saved\n",
      "\n",
      "\n"
     ]
    },
    {
     "name": "stderr",
     "output_type": "stream",
     "text": [
      "Epoch 42/100 - Training: 100%|██████████| 1667/1667 [09:33<00:00,  2.91batch/s, loss=0.0245] \n",
      "Epoch 42/100 - Validation: 100%|██████████| 417/417 [00:22<00:00, 18.64batch/s, loss=0.454]\n"
     ]
    },
    {
     "name": "stdout",
     "output_type": "stream",
     "text": [
      "Average loss => Training: 0.03 | Validation: 0.45\n",
      "Model Saved\n",
      "\n",
      "\n"
     ]
    },
    {
     "name": "stderr",
     "output_type": "stream",
     "text": [
      "Epoch 43/100 - Training: 100%|██████████| 1667/1667 [09:54<00:00,  2.80batch/s, loss=0.0243] \n",
      "Epoch 43/100 - Validation: 100%|██████████| 417/417 [00:24<00:00, 17.21batch/s, loss=0.456]\n"
     ]
    },
    {
     "name": "stdout",
     "output_type": "stream",
     "text": [
      "Average loss => Training: 0.03 | Validation: 0.46\n",
      "Model Saved\n",
      "\n",
      "\n"
     ]
    },
    {
     "name": "stderr",
     "output_type": "stream",
     "text": [
      "Epoch 44/100 - Training: 100%|██████████| 1667/1667 [09:59<00:00,  2.78batch/s, loss=0.0274] \n",
      "Epoch 44/100 - Validation: 100%|██████████| 417/417 [00:24<00:00, 17.36batch/s, loss=0.457]\n"
     ]
    },
    {
     "name": "stdout",
     "output_type": "stream",
     "text": [
      "Average loss => Training: 0.03 | Validation: 0.46\n",
      "Model Saved\n",
      "\n",
      "\n"
     ]
    },
    {
     "name": "stderr",
     "output_type": "stream",
     "text": [
      "Epoch 45/100 - Training: 100%|██████████| 1667/1667 [10:00<00:00,  2.78batch/s, loss=0.0234] \n",
      "Epoch 45/100 - Validation: 100%|██████████| 417/417 [00:23<00:00, 17.46batch/s, loss=0.454]\n"
     ]
    },
    {
     "name": "stdout",
     "output_type": "stream",
     "text": [
      "Average loss => Training: 0.03 | Validation: 0.45\n",
      "Model Saved\n",
      "\n",
      "\n"
     ]
    },
    {
     "name": "stderr",
     "output_type": "stream",
     "text": [
      "Epoch 46/100 - Training: 100%|██████████| 1667/1667 [09:57<00:00,  2.79batch/s, loss=0.0288] \n",
      "Epoch 46/100 - Validation: 100%|██████████| 417/417 [00:22<00:00, 18.26batch/s, loss=0.457]\n"
     ]
    },
    {
     "name": "stdout",
     "output_type": "stream",
     "text": [
      "Average loss => Training: 0.02 | Validation: 0.46\n",
      "Model Saved\n",
      "\n",
      "\n"
     ]
    },
    {
     "name": "stderr",
     "output_type": "stream",
     "text": [
      "Epoch 47/100 - Training: 100%|██████████| 1667/1667 [09:59<00:00,  2.78batch/s, loss=0.0326] \n",
      "Epoch 47/100 - Validation: 100%|██████████| 417/417 [00:24<00:00, 17.10batch/s, loss=0.461]\n"
     ]
    },
    {
     "name": "stdout",
     "output_type": "stream",
     "text": [
      "Average loss => Training: 0.02 | Validation: 0.46\n",
      "Model Saved\n",
      "\n",
      "\n"
     ]
    },
    {
     "name": "stderr",
     "output_type": "stream",
     "text": [
      "Epoch 48/100 - Training: 100%|██████████| 1667/1667 [09:57<00:00,  2.79batch/s, loss=0.0252] \n",
      "Epoch 48/100 - Validation: 100%|██████████| 417/417 [00:24<00:00, 17.23batch/s, loss=0.461]\n"
     ]
    },
    {
     "name": "stdout",
     "output_type": "stream",
     "text": [
      "Average loss => Training: 0.02 | Validation: 0.46\n",
      "Model Saved\n",
      "\n",
      "\n"
     ]
    },
    {
     "name": "stderr",
     "output_type": "stream",
     "text": [
      "Epoch 49/100 - Training: 100%|██████████| 1667/1667 [09:58<00:00,  2.79batch/s, loss=0.0211] \n",
      "Epoch 49/100 - Validation: 100%|██████████| 417/417 [00:24<00:00, 17.16batch/s, loss=0.463]\n"
     ]
    },
    {
     "name": "stdout",
     "output_type": "stream",
     "text": [
      "Average loss => Training: 0.02 | Validation: 0.46\n",
      "Model Saved\n",
      "\n",
      "\n"
     ]
    },
    {
     "name": "stderr",
     "output_type": "stream",
     "text": [
      "Epoch 50/100 - Training: 100%|██████████| 1667/1667 [10:00<00:00,  2.78batch/s, loss=0.0236] \n",
      "Epoch 50/100 - Validation: 100%|██████████| 417/417 [00:23<00:00, 17.38batch/s, loss=0.463]\n"
     ]
    },
    {
     "name": "stdout",
     "output_type": "stream",
     "text": [
      "Average loss => Training: 0.02 | Validation: 0.46\n",
      "Model Saved\n",
      "\n",
      "\n"
     ]
    },
    {
     "name": "stderr",
     "output_type": "stream",
     "text": [
      "Epoch 51/100 - Training: 100%|██████████| 1667/1667 [09:56<00:00,  2.79batch/s, loss=0.0249] \n",
      "Epoch 51/100 - Validation: 100%|██████████| 417/417 [00:24<00:00, 17.14batch/s, loss=0.462]\n"
     ]
    },
    {
     "name": "stdout",
     "output_type": "stream",
     "text": [
      "Average loss => Training: 0.02 | Validation: 0.46\n",
      "Model Saved\n",
      "\n",
      "\n"
     ]
    },
    {
     "name": "stderr",
     "output_type": "stream",
     "text": [
      "Epoch 52/100 - Training: 100%|██████████| 1667/1667 [10:01<00:00,  2.77batch/s, loss=0.0366] \n",
      "Epoch 52/100 - Validation: 100%|██████████| 417/417 [00:24<00:00, 17.06batch/s, loss=0.467]\n"
     ]
    },
    {
     "name": "stdout",
     "output_type": "stream",
     "text": [
      "Average loss => Training: 0.02 | Validation: 0.47\n",
      "Model Saved\n",
      "\n",
      "\n"
     ]
    },
    {
     "name": "stderr",
     "output_type": "stream",
     "text": [
      "Epoch 53/100 - Training: 100%|██████████| 1667/1667 [10:05<00:00,  2.75batch/s, loss=0.0222] \n",
      "Epoch 53/100 - Validation: 100%|██████████| 417/417 [00:24<00:00, 17.05batch/s, loss=0.464]\n"
     ]
    },
    {
     "name": "stdout",
     "output_type": "stream",
     "text": [
      "Average loss => Training: 0.02 | Validation: 0.46\n",
      "Model Saved\n",
      "\n",
      "\n"
     ]
    },
    {
     "name": "stderr",
     "output_type": "stream",
     "text": [
      "Epoch 54/100 - Training: 100%|██████████| 1667/1667 [09:52<00:00,  2.81batch/s, loss=0.0254] \n",
      "Epoch 54/100 - Validation: 100%|██████████| 417/417 [00:22<00:00, 18.37batch/s, loss=0.461]\n"
     ]
    },
    {
     "name": "stdout",
     "output_type": "stream",
     "text": [
      "Average loss => Training: 0.02 | Validation: 0.46\n",
      "Model Saved\n",
      "\n",
      "\n"
     ]
    },
    {
     "name": "stderr",
     "output_type": "stream",
     "text": [
      "Epoch 55/100 - Training: 100%|██████████| 1667/1667 [09:37<00:00,  2.89batch/s, loss=0.021]  \n",
      "Epoch 55/100 - Validation: 100%|██████████| 417/417 [00:22<00:00, 18.78batch/s, loss=0.462]\n"
     ]
    },
    {
     "name": "stdout",
     "output_type": "stream",
     "text": [
      "Average loss => Training: 0.02 | Validation: 0.46\n",
      "Model Saved\n",
      "\n",
      "\n"
     ]
    },
    {
     "name": "stderr",
     "output_type": "stream",
     "text": [
      "Epoch 56/100 - Training: 100%|██████████| 1667/1667 [09:32<00:00,  2.91batch/s, loss=0.0222] \n",
      "Epoch 56/100 - Validation: 100%|██████████| 417/417 [00:22<00:00, 18.69batch/s, loss=0.463]\n"
     ]
    },
    {
     "name": "stdout",
     "output_type": "stream",
     "text": [
      "Average loss => Training: 0.02 | Validation: 0.46\n",
      "Model Saved\n",
      "\n",
      "\n"
     ]
    },
    {
     "name": "stderr",
     "output_type": "stream",
     "text": [
      "Epoch 57/100 - Training: 100%|██████████| 1667/1667 [09:35<00:00,  2.90batch/s, loss=0.023]  \n",
      "Epoch 57/100 - Validation: 100%|██████████| 417/417 [00:22<00:00, 18.73batch/s, loss=0.464]\n"
     ]
    },
    {
     "name": "stdout",
     "output_type": "stream",
     "text": [
      "Average loss => Training: 0.02 | Validation: 0.46\n",
      "Model Saved\n",
      "\n",
      "\n"
     ]
    },
    {
     "name": "stderr",
     "output_type": "stream",
     "text": [
      "Epoch 58/100 - Training: 100%|██████████| 1667/1667 [09:44<00:00,  2.85batch/s, loss=0.0231] \n",
      "Epoch 58/100 - Validation: 100%|██████████| 417/417 [00:22<00:00, 18.67batch/s, loss=0.462]\n"
     ]
    },
    {
     "name": "stdout",
     "output_type": "stream",
     "text": [
      "Average loss => Training: 0.02 | Validation: 0.46\n",
      "Model Saved\n",
      "\n",
      "\n"
     ]
    },
    {
     "name": "stderr",
     "output_type": "stream",
     "text": [
      "Epoch 59/100 - Training: 100%|██████████| 1667/1667 [09:42<00:00,  2.86batch/s, loss=0.0193] \n",
      "Epoch 59/100 - Validation: 100%|██████████| 417/417 [00:22<00:00, 18.69batch/s, loss=0.462]\n"
     ]
    },
    {
     "name": "stdout",
     "output_type": "stream",
     "text": [
      "Average loss => Training: 0.02 | Validation: 0.46\n",
      "Model Saved\n",
      "\n",
      "\n"
     ]
    },
    {
     "name": "stderr",
     "output_type": "stream",
     "text": [
      "Epoch 60/100 - Training: 100%|██████████| 1667/1667 [09:40<00:00,  2.87batch/s, loss=0.0225] \n",
      "Epoch 60/100 - Validation: 100%|██████████| 417/417 [00:22<00:00, 18.70batch/s, loss=0.463]\n"
     ]
    },
    {
     "name": "stdout",
     "output_type": "stream",
     "text": [
      "Average loss => Training: 0.02 | Validation: 0.46\n",
      "Model Saved\n",
      "\n",
      "\n"
     ]
    },
    {
     "name": "stderr",
     "output_type": "stream",
     "text": [
      "Epoch 61/100 - Training: 100%|██████████| 1667/1667 [09:39<00:00,  2.87batch/s, loss=0.0222] \n",
      "Epoch 61/100 - Validation: 100%|██████████| 417/417 [00:22<00:00, 18.76batch/s, loss=0.463]\n"
     ]
    },
    {
     "name": "stdout",
     "output_type": "stream",
     "text": [
      "Average loss => Training: 0.02 | Validation: 0.46\n",
      "Model Saved\n",
      "\n",
      "\n"
     ]
    },
    {
     "name": "stderr",
     "output_type": "stream",
     "text": [
      "Epoch 62/100 - Training: 100%|██████████| 1667/1667 [09:41<00:00,  2.87batch/s, loss=0.0213] \n",
      "Epoch 62/100 - Validation: 100%|██████████| 417/417 [00:22<00:00, 18.72batch/s, loss=0.463]\n"
     ]
    },
    {
     "name": "stdout",
     "output_type": "stream",
     "text": [
      "Average loss => Training: 0.02 | Validation: 0.46\n",
      "Model Saved\n",
      "\n",
      "\n"
     ]
    },
    {
     "name": "stderr",
     "output_type": "stream",
     "text": [
      "Epoch 63/100 - Training: 100%|██████████| 1667/1667 [09:40<00:00,  2.87batch/s, loss=0.0201] \n",
      "Epoch 63/100 - Validation: 100%|██████████| 417/417 [00:22<00:00, 18.67batch/s, loss=0.467]\n"
     ]
    },
    {
     "name": "stdout",
     "output_type": "stream",
     "text": [
      "Average loss => Training: 0.02 | Validation: 0.47\n",
      "Model Saved\n",
      "\n",
      "\n"
     ]
    },
    {
     "name": "stderr",
     "output_type": "stream",
     "text": [
      "Epoch 64/100 - Training: 100%|██████████| 1667/1667 [09:38<00:00,  2.88batch/s, loss=0.022]  \n",
      "Epoch 64/100 - Validation: 100%|██████████| 417/417 [00:22<00:00, 18.66batch/s, loss=0.466]\n"
     ]
    },
    {
     "name": "stdout",
     "output_type": "stream",
     "text": [
      "Average loss => Training: 0.02 | Validation: 0.47\n",
      "Model Saved\n",
      "\n",
      "\n"
     ]
    },
    {
     "name": "stderr",
     "output_type": "stream",
     "text": [
      "Epoch 65/100 - Training: 100%|██████████| 1667/1667 [09:42<00:00,  2.86batch/s, loss=0.0204] \n",
      "Epoch 65/100 - Validation: 100%|██████████| 417/417 [00:22<00:00, 18.92batch/s, loss=0.464]\n"
     ]
    },
    {
     "name": "stdout",
     "output_type": "stream",
     "text": [
      "Average loss => Training: 0.02 | Validation: 0.46\n",
      "Model Saved\n",
      "\n",
      "\n"
     ]
    },
    {
     "name": "stderr",
     "output_type": "stream",
     "text": [
      "Epoch 66/100 - Training: 100%|██████████| 1667/1667 [09:40<00:00,  2.87batch/s, loss=0.0237] \n",
      "Epoch 66/100 - Validation: 100%|██████████| 417/417 [00:22<00:00, 18.70batch/s, loss=0.464]\n"
     ]
    },
    {
     "name": "stdout",
     "output_type": "stream",
     "text": [
      "Average loss => Training: 0.02 | Validation: 0.46\n",
      "Model Saved\n",
      "\n",
      "\n"
     ]
    },
    {
     "name": "stderr",
     "output_type": "stream",
     "text": [
      "Epoch 67/100 - Training: 100%|██████████| 1667/1667 [10:01<00:00,  2.77batch/s, loss=0.0222] \n",
      "Epoch 67/100 - Validation: 100%|██████████| 417/417 [00:24<00:00, 17.35batch/s, loss=0.464]\n"
     ]
    },
    {
     "name": "stdout",
     "output_type": "stream",
     "text": [
      "Average loss => Training: 0.02 | Validation: 0.46\n",
      "Model Saved\n",
      "\n",
      "\n"
     ]
    },
    {
     "name": "stderr",
     "output_type": "stream",
     "text": [
      "Epoch 68/100 - Training: 100%|██████████| 1667/1667 [10:01<00:00,  2.77batch/s, loss=0.0198] \n",
      "Epoch 68/100 - Validation: 100%|██████████| 417/417 [00:24<00:00, 17.31batch/s, loss=0.464]\n"
     ]
    },
    {
     "name": "stdout",
     "output_type": "stream",
     "text": [
      "Average loss => Training: 0.02 | Validation: 0.46\n",
      "Model Saved\n",
      "\n",
      "\n"
     ]
    },
    {
     "name": "stderr",
     "output_type": "stream",
     "text": [
      "Epoch 69/100 - Training: 100%|██████████| 1667/1667 [09:58<00:00,  2.79batch/s, loss=0.0224] \n",
      "Epoch 69/100 - Validation: 100%|██████████| 417/417 [00:23<00:00, 17.49batch/s, loss=0.463]\n"
     ]
    },
    {
     "name": "stdout",
     "output_type": "stream",
     "text": [
      "Average loss => Training: 0.02 | Validation: 0.46\n",
      "Model Saved\n",
      "\n",
      "\n"
     ]
    },
    {
     "name": "stderr",
     "output_type": "stream",
     "text": [
      "Epoch 70/100 - Training: 100%|██████████| 1667/1667 [10:01<00:00,  2.77batch/s, loss=0.021]  \n",
      "Epoch 70/100 - Validation: 100%|██████████| 417/417 [00:23<00:00, 17.46batch/s, loss=0.461]\n"
     ]
    },
    {
     "name": "stdout",
     "output_type": "stream",
     "text": [
      "Average loss => Training: 0.02 | Validation: 0.46\n",
      "Model Saved\n",
      "\n",
      "\n"
     ]
    },
    {
     "name": "stderr",
     "output_type": "stream",
     "text": [
      "Epoch 71/100 - Training: 100%|██████████| 1667/1667 [10:03<00:00,  2.76batch/s, loss=0.0215] \n",
      "Epoch 71/100 - Validation: 100%|██████████| 417/417 [00:24<00:00, 17.27batch/s, loss=0.461]\n"
     ]
    },
    {
     "name": "stdout",
     "output_type": "stream",
     "text": [
      "Average loss => Training: 0.02 | Validation: 0.46\n",
      "Model Saved\n",
      "\n",
      "\n"
     ]
    },
    {
     "name": "stderr",
     "output_type": "stream",
     "text": [
      "Epoch 72/100 - Training: 100%|██████████| 1667/1667 [10:08<00:00,  2.74batch/s, loss=0.0207] \n",
      "Epoch 72/100 - Validation: 100%|██████████| 417/417 [00:24<00:00, 17.24batch/s, loss=0.462]\n"
     ]
    },
    {
     "name": "stdout",
     "output_type": "stream",
     "text": [
      "Average loss => Training: 0.02 | Validation: 0.46\n",
      "Model Saved\n",
      "\n",
      "\n"
     ]
    },
    {
     "name": "stderr",
     "output_type": "stream",
     "text": [
      "Epoch 73/100 - Training: 100%|██████████| 1667/1667 [10:00<00:00,  2.78batch/s, loss=0.0202] \n",
      "Epoch 73/100 - Validation: 100%|██████████| 417/417 [00:23<00:00, 17.47batch/s, loss=0.461]\n"
     ]
    },
    {
     "name": "stdout",
     "output_type": "stream",
     "text": [
      "Average loss => Training: 0.02 | Validation: 0.46\n",
      "Model Saved\n",
      "\n",
      "\n"
     ]
    },
    {
     "name": "stderr",
     "output_type": "stream",
     "text": [
      "Epoch 74/100 - Training: 100%|██████████| 1667/1667 [10:00<00:00,  2.77batch/s, loss=0.0192] \n",
      "Epoch 74/100 - Validation: 100%|██████████| 417/417 [00:23<00:00, 17.48batch/s, loss=0.46] \n"
     ]
    },
    {
     "name": "stdout",
     "output_type": "stream",
     "text": [
      "Average loss => Training: 0.02 | Validation: 0.46\n",
      "Model Saved\n",
      "\n",
      "\n"
     ]
    },
    {
     "name": "stderr",
     "output_type": "stream",
     "text": [
      "Epoch 75/100 - Training: 100%|██████████| 1667/1667 [09:38<00:00,  2.88batch/s, loss=0.0194] \n",
      "Epoch 75/100 - Validation: 100%|██████████| 417/417 [00:22<00:00, 18.80batch/s, loss=0.461]\n"
     ]
    },
    {
     "name": "stdout",
     "output_type": "stream",
     "text": [
      "Average loss => Training: 0.02 | Validation: 0.46\n",
      "Model Saved\n",
      "\n",
      "\n"
     ]
    },
    {
     "name": "stderr",
     "output_type": "stream",
     "text": [
      "Epoch 76/100 - Training: 100%|██████████| 1667/1667 [09:27<00:00,  2.94batch/s, loss=0.0213] \n",
      "Epoch 76/100 - Validation: 100%|██████████| 417/417 [00:22<00:00, 18.73batch/s, loss=0.458]\n"
     ]
    },
    {
     "name": "stdout",
     "output_type": "stream",
     "text": [
      "Average loss => Training: 0.02 | Validation: 0.46\n",
      "Model Saved\n",
      "\n",
      "\n"
     ]
    },
    {
     "name": "stderr",
     "output_type": "stream",
     "text": [
      "Epoch 77/100 - Training: 100%|██████████| 1667/1667 [09:36<00:00,  2.89batch/s, loss=0.0182] \n",
      "Epoch 77/100 - Validation: 100%|██████████| 417/417 [00:24<00:00, 17.34batch/s, loss=0.46] \n"
     ]
    },
    {
     "name": "stdout",
     "output_type": "stream",
     "text": [
      "Average loss => Training: 0.02 | Validation: 0.46\n",
      "Model Saved\n",
      "\n",
      "\n"
     ]
    },
    {
     "name": "stderr",
     "output_type": "stream",
     "text": [
      "Epoch 78/100 - Training: 100%|██████████| 1667/1667 [10:01<00:00,  2.77batch/s, loss=0.0183] \n",
      "Epoch 78/100 - Validation: 100%|██████████| 417/417 [00:24<00:00, 17.22batch/s, loss=0.457]\n"
     ]
    },
    {
     "name": "stdout",
     "output_type": "stream",
     "text": [
      "Average loss => Training: 0.02 | Validation: 0.46\n",
      "Model Saved\n",
      "\n",
      "\n"
     ]
    },
    {
     "name": "stderr",
     "output_type": "stream",
     "text": [
      "Epoch 79/100 - Training: 100%|██████████| 1667/1667 [09:56<00:00,  2.79batch/s, loss=0.0205] \n",
      "Epoch 79/100 - Validation: 100%|██████████| 417/417 [00:24<00:00, 17.37batch/s, loss=0.458]\n"
     ]
    },
    {
     "name": "stdout",
     "output_type": "stream",
     "text": [
      "Average loss => Training: 0.02 | Validation: 0.46\n",
      "Model Saved\n",
      "\n",
      "\n"
     ]
    },
    {
     "name": "stderr",
     "output_type": "stream",
     "text": [
      "Epoch 80/100 - Training: 100%|██████████| 1667/1667 [09:53<00:00,  2.81batch/s, loss=0.0187] \n",
      "Epoch 80/100 - Validation: 100%|██████████| 417/417 [00:23<00:00, 17.56batch/s, loss=0.457]\n"
     ]
    },
    {
     "name": "stdout",
     "output_type": "stream",
     "text": [
      "Average loss => Training: 0.02 | Validation: 0.46\n",
      "Model Saved\n",
      "\n",
      "\n"
     ]
    },
    {
     "name": "stderr",
     "output_type": "stream",
     "text": [
      "Epoch 81/100 - Training: 100%|██████████| 1667/1667 [09:50<00:00,  2.82batch/s, loss=0.0198] \n",
      "Epoch 81/100 - Validation: 100%|██████████| 417/417 [00:23<00:00, 17.53batch/s, loss=0.458]\n"
     ]
    },
    {
     "name": "stdout",
     "output_type": "stream",
     "text": [
      "Average loss => Training: 0.02 | Validation: 0.46\n",
      "Model Saved\n",
      "\n",
      "\n"
     ]
    },
    {
     "name": "stderr",
     "output_type": "stream",
     "text": [
      "Epoch 82/100 - Training: 100%|██████████| 1667/1667 [10:06<00:00,  2.75batch/s, loss=0.0198] \n",
      "Epoch 82/100 - Validation: 100%|██████████| 417/417 [00:25<00:00, 16.54batch/s, loss=0.458]\n"
     ]
    },
    {
     "name": "stdout",
     "output_type": "stream",
     "text": [
      "Average loss => Training: 0.02 | Validation: 0.46\n",
      "Model Saved\n",
      "\n",
      "\n"
     ]
    },
    {
     "name": "stderr",
     "output_type": "stream",
     "text": [
      "Epoch 83/100 - Training: 100%|██████████| 1667/1667 [10:08<00:00,  2.74batch/s, loss=0.0188] \n",
      "Epoch 83/100 - Validation: 100%|██████████| 417/417 [00:24<00:00, 17.24batch/s, loss=0.458]\n"
     ]
    },
    {
     "name": "stdout",
     "output_type": "stream",
     "text": [
      "Average loss => Training: 0.02 | Validation: 0.46\n",
      "Model Saved\n",
      "\n",
      "\n"
     ]
    },
    {
     "name": "stderr",
     "output_type": "stream",
     "text": [
      "Epoch 84/100 - Training: 100%|██████████| 1667/1667 [09:59<00:00,  2.78batch/s, loss=0.0184] \n",
      "Epoch 84/100 - Validation: 100%|██████████| 417/417 [00:24<00:00, 17.21batch/s, loss=0.457]\n"
     ]
    },
    {
     "name": "stdout",
     "output_type": "stream",
     "text": [
      "Average loss => Training: 0.02 | Validation: 0.46\n",
      "Model Saved\n",
      "\n",
      "\n"
     ]
    },
    {
     "name": "stderr",
     "output_type": "stream",
     "text": [
      "Epoch 85/100 - Training: 100%|██████████| 1667/1667 [10:11<00:00,  2.73batch/s, loss=0.0202] \n",
      "Epoch 85/100 - Validation: 100%|██████████| 417/417 [00:22<00:00, 18.79batch/s, loss=0.457]\n"
     ]
    },
    {
     "name": "stdout",
     "output_type": "stream",
     "text": [
      "Average loss => Training: 0.02 | Validation: 0.46\n",
      "Model Saved\n",
      "\n",
      "\n"
     ]
    },
    {
     "name": "stderr",
     "output_type": "stream",
     "text": [
      "Epoch 86/100 - Training: 100%|██████████| 1667/1667 [09:45<00:00,  2.85batch/s, loss=0.0199] \n",
      "Epoch 86/100 - Validation: 100%|██████████| 417/417 [00:22<00:00, 18.69batch/s, loss=0.455]\n"
     ]
    },
    {
     "name": "stdout",
     "output_type": "stream",
     "text": [
      "Average loss => Training: 0.02 | Validation: 0.46\n",
      "Model Saved\n",
      "\n",
      "\n"
     ]
    },
    {
     "name": "stderr",
     "output_type": "stream",
     "text": [
      "Epoch 87/100 - Training: 100%|██████████| 1667/1667 [09:50<00:00,  2.82batch/s, loss=0.019]  \n",
      "Epoch 87/100 - Validation: 100%|██████████| 417/417 [00:22<00:00, 18.72batch/s, loss=0.456]\n"
     ]
    },
    {
     "name": "stdout",
     "output_type": "stream",
     "text": [
      "Average loss => Training: 0.02 | Validation: 0.46\n",
      "Model Saved\n",
      "\n",
      "\n"
     ]
    },
    {
     "name": "stderr",
     "output_type": "stream",
     "text": [
      "Epoch 88/100 - Training: 100%|██████████| 1667/1667 [09:55<00:00,  2.80batch/s, loss=0.0189] \n",
      "Epoch 88/100 - Validation: 100%|██████████| 417/417 [00:22<00:00, 18.70batch/s, loss=0.456]\n"
     ]
    },
    {
     "name": "stdout",
     "output_type": "stream",
     "text": [
      "Average loss => Training: 0.02 | Validation: 0.46\n",
      "Model Saved\n",
      "\n",
      "\n"
     ]
    },
    {
     "name": "stderr",
     "output_type": "stream",
     "text": [
      "Epoch 89/100 - Training: 100%|██████████| 1667/1667 [09:50<00:00,  2.82batch/s, loss=0.0192] \n",
      "Epoch 89/100 - Validation: 100%|██████████| 417/417 [00:24<00:00, 17.27batch/s, loss=0.456]\n"
     ]
    },
    {
     "name": "stdout",
     "output_type": "stream",
     "text": [
      "Average loss => Training: 0.02 | Validation: 0.46\n",
      "Model Saved\n",
      "\n",
      "\n"
     ]
    },
    {
     "name": "stderr",
     "output_type": "stream",
     "text": [
      "Epoch 90/100 - Training: 100%|██████████| 1667/1667 [10:11<00:00,  2.73batch/s, loss=0.0198] \n",
      "Epoch 90/100 - Validation: 100%|██████████| 417/417 [00:24<00:00, 17.25batch/s, loss=0.456]\n"
     ]
    },
    {
     "name": "stdout",
     "output_type": "stream",
     "text": [
      "Average loss => Training: 0.02 | Validation: 0.46\n",
      "Model Saved\n",
      "\n",
      "\n"
     ]
    },
    {
     "name": "stderr",
     "output_type": "stream",
     "text": [
      "Epoch 91/100 - Training: 100%|██████████| 1667/1667 [10:12<00:00,  2.72batch/s, loss=0.0189] \n",
      "Epoch 91/100 - Validation: 100%|██████████| 417/417 [00:24<00:00, 17.31batch/s, loss=0.456]\n"
     ]
    },
    {
     "name": "stdout",
     "output_type": "stream",
     "text": [
      "Average loss => Training: 0.02 | Validation: 0.46\n",
      "Model Saved\n",
      "\n",
      "\n"
     ]
    },
    {
     "name": "stderr",
     "output_type": "stream",
     "text": [
      "Epoch 92/100 - Training: 100%|██████████| 1667/1667 [10:14<00:00,  2.71batch/s, loss=0.0185] \n",
      "Epoch 92/100 - Validation: 100%|██████████| 417/417 [00:23<00:00, 17.50batch/s, loss=0.455]\n"
     ]
    },
    {
     "name": "stdout",
     "output_type": "stream",
     "text": [
      "Average loss => Training: 0.02 | Validation: 0.46\n",
      "Model Saved\n",
      "\n",
      "\n"
     ]
    },
    {
     "name": "stderr",
     "output_type": "stream",
     "text": [
      "Epoch 93/100 - Training: 100%|██████████| 1667/1667 [10:07<00:00,  2.74batch/s, loss=0.0178] \n",
      "Epoch 93/100 - Validation: 100%|██████████| 417/417 [00:23<00:00, 17.49batch/s, loss=0.456]\n"
     ]
    },
    {
     "name": "stdout",
     "output_type": "stream",
     "text": [
      "Average loss => Training: 0.02 | Validation: 0.46\n",
      "Model Saved\n",
      "\n",
      "\n"
     ]
    },
    {
     "name": "stderr",
     "output_type": "stream",
     "text": [
      "Epoch 94/100 - Training: 100%|██████████| 1667/1667 [09:51<00:00,  2.82batch/s, loss=0.0189] \n",
      "Epoch 94/100 - Validation: 100%|██████████| 417/417 [00:23<00:00, 17.52batch/s, loss=0.455]\n"
     ]
    },
    {
     "name": "stdout",
     "output_type": "stream",
     "text": [
      "Average loss => Training: 0.02 | Validation: 0.45\n",
      "Model Saved\n",
      "\n",
      "\n"
     ]
    },
    {
     "name": "stderr",
     "output_type": "stream",
     "text": [
      "Epoch 95/100 - Training: 100%|██████████| 1667/1667 [09:56<00:00,  2.79batch/s, loss=0.0172] \n",
      "Epoch 95/100 - Validation: 100%|██████████| 417/417 [00:23<00:00, 17.61batch/s, loss=0.456]\n"
     ]
    },
    {
     "name": "stdout",
     "output_type": "stream",
     "text": [
      "Average loss => Training: 0.02 | Validation: 0.46\n",
      "Model Saved\n",
      "\n",
      "\n"
     ]
    },
    {
     "name": "stderr",
     "output_type": "stream",
     "text": [
      "Epoch 96/100 - Training: 100%|██████████| 1667/1667 [09:53<00:00,  2.81batch/s, loss=0.0178] \n",
      "Epoch 96/100 - Validation: 100%|██████████| 417/417 [00:23<00:00, 17.51batch/s, loss=0.456]\n"
     ]
    },
    {
     "name": "stdout",
     "output_type": "stream",
     "text": [
      "Average loss => Training: 0.02 | Validation: 0.46\n",
      "Model Saved\n",
      "\n",
      "\n"
     ]
    },
    {
     "name": "stderr",
     "output_type": "stream",
     "text": [
      "Epoch 97/100 - Training: 100%|██████████| 1667/1667 [09:59<00:00,  2.78batch/s, loss=0.0179] \n",
      "Epoch 97/100 - Validation: 100%|██████████| 417/417 [00:24<00:00, 17.14batch/s, loss=0.456]\n"
     ]
    },
    {
     "name": "stdout",
     "output_type": "stream",
     "text": [
      "Average loss => Training: 0.02 | Validation: 0.46\n",
      "Model Saved\n",
      "\n",
      "\n"
     ]
    },
    {
     "name": "stderr",
     "output_type": "stream",
     "text": [
      "Epoch 98/100 - Training: 100%|██████████| 1667/1667 [09:31<00:00,  2.92batch/s, loss=0.0176] \n",
      "Epoch 98/100 - Validation: 100%|██████████| 417/417 [00:22<00:00, 18.65batch/s, loss=0.457]\n"
     ]
    },
    {
     "name": "stdout",
     "output_type": "stream",
     "text": [
      "Average loss => Training: 0.02 | Validation: 0.46\n",
      "Model Saved\n",
      "\n",
      "\n"
     ]
    },
    {
     "name": "stderr",
     "output_type": "stream",
     "text": [
      "Epoch 99/100 - Training: 100%|██████████| 1667/1667 [09:24<00:00,  2.95batch/s, loss=0.0186] \n",
      "Epoch 99/100 - Validation: 100%|██████████| 417/417 [00:22<00:00, 18.66batch/s, loss=0.457]\n"
     ]
    },
    {
     "name": "stdout",
     "output_type": "stream",
     "text": [
      "Average loss => Training: 0.02 | Validation: 0.46\n",
      "Model Saved\n",
      "\n",
      "\n"
     ]
    },
    {
     "name": "stderr",
     "output_type": "stream",
     "text": [
      "Epoch 100/100 - Training: 100%|██████████| 1667/1667 [09:32<00:00,  2.91batch/s, loss=0.0185] \n",
      "Epoch 100/100 - Validation: 100%|██████████| 417/417 [00:22<00:00, 18.71batch/s, loss=0.457]\n"
     ]
    },
    {
     "name": "stdout",
     "output_type": "stream",
     "text": [
      "Average loss => Training: 0.02 | Validation: 0.46\n",
      "Model Saved\n",
      "\n",
      "\n",
      "\n",
      "Training complete!\n",
      "Total training took 17:41:32 (h:mm:ss)\n"
     ]
    }
   ],
   "source": [
    "# Variables to track best model\n",
    "best_training_loss = float('inf')\n",
    "best_model_path = None\n",
    "\n",
    "# Use tqdm to display progress over epochs\n",
    "for epoch_i in range(0, args.epochs):\n",
    "\n",
    "    # ========================================\n",
    "    #               Training\n",
    "    # ========================================\n",
    "    # Record the start time of the epoch.\n",
    "    t0 = time.time()\n",
    "\n",
    "    # Reset the total loss for this epoch.\n",
    "    total_train_loss = 0\n",
    "\n",
    "    # Put the model into training mode.\n",
    "    model.train()\n",
    "    \n",
    "    train_iterator = tqdm(train_dataloader, \n",
    "                                      desc=f\"Epoch {epoch_i + 1}/{args.epochs} - Training\", \n",
    "                                      unit=\"batch\")\n",
    "\n",
    "\n",
    "    # Loop over each batch of training data.\n",
    "    for step, batch in enumerate(train_iterator): \n",
    "\n",
    "        # Clear the GPU memory cache to free up memory\n",
    "        torch.cuda.empty_cache()\n",
    "\n",
    "        # Get the input IDs, attention masks, and labels for this batch,\n",
    "        # and move them to the GPU if necessary.\n",
    "        b_input_ids = batch[0].to(device)\n",
    "        b_labels = batch[0].to(device)\n",
    "        b_masks = batch[1].to(device)\n",
    "\n",
    "        # Zero out any gradients that have accumulated from previous batches.\n",
    "        model.zero_grad()        \n",
    "\n",
    "        # Run this batch through the model to get the loss.\n",
    "        outputs = model(  b_input_ids,\n",
    "                          labels=b_labels, \n",
    "                          attention_mask = b_masks,\n",
    "                        #   token_type_ids=None\n",
    "                        )\n",
    "\n",
    "        loss = outputs[0] \n",
    "\n",
    "        # If using DataParallel, average the loss across all GPUs\n",
    "        if isinstance(model, torch.nn.DataParallel) and loss is not None:\n",
    "            loss = loss.mean()\n",
    "\n",
    "        # Get the loss for this batch, and add it to the total loss for this epoch.\n",
    "        if loss is not None:\n",
    "            batch_loss = loss.item()\n",
    "            total_train_loss += batch_loss\n",
    "\n",
    "        # Print some generated output every `sample_every` batches.\n",
    "        if step % args.sample_every == 0 and not step == 0:\n",
    "            \n",
    "            # Measure how long this has taken so far.\n",
    "            elapsed = format_time(time.time() - t0)\n",
    "\n",
    "            # Put the model into evaluation mode.\n",
    "            model.eval()\n",
    "\n",
    "            # Generate some sample output from the model.\n",
    "            sample_outputs = model.module.generate(\n",
    "                                    bos_token_id=random.randint(1,30000),\n",
    "                                    do_sample=True,   \n",
    "                                    top_k=50, \n",
    "                                    max_length = 512,\n",
    "                                    top_p=0.95, \n",
    "                                    num_return_sequences=1,\n",
    "                                    pad_token_id=tokenizer.eos_token_id,\n",
    "                                    eos_token_id=-1,\n",
    "                                )\n",
    "            # Put the model back into training mode.\n",
    "            model.train()\n",
    "        train_iterator.set_postfix(loss=batch_loss)\n",
    "\n",
    "        # Backpropagate the loss and update the model parameters.\n",
    "        if loss is not None:\n",
    "            loss.backward()\n",
    "            optimizer.step()\n",
    "\n",
    "            # Update the learning rate scheduler.\n",
    "            scheduler.step()\n",
    "\n",
    "    # Calculate the average loss over all of the batches.\n",
    "    if total_train_loss > 0:\n",
    "        avg_train_loss = total_train_loss / len(train_dataloader)\n",
    "    else:\n",
    "        avg_train_loss = 0\n",
    "    \n",
    "    # Measure how long this epoch took.\n",
    "    training_time = format_time(time.time() - t0)\n",
    "     \n",
    "\n",
    "    # ========================================\n",
    "    #               Validation\n",
    "    # ========================================\n",
    "    t0 = time.time()\n",
    "\n",
    "    model.eval()\n",
    "\n",
    "    total_eval_loss = 0\n",
    "    nb_eval_steps = 0\n",
    "\n",
    "    val_iterator = tqdm(validation_dataloader, \n",
    "                        desc=f\"Epoch {epoch_i + 1}/{args.epochs} - Validation\", \n",
    "                        unit=\"batch\")\n",
    "\n",
    "    # Evaluate data for one epoch\n",
    "    for val_step, batch in enumerate(val_iterator):\n",
    "        \n",
    "        b_input_ids = batch[0].to(device)\n",
    "        b_labels = batch[0].to(device)\n",
    "        b_masks = batch[1].to(device)\n",
    "        \n",
    "        with torch.no_grad():        \n",
    "            # Run this batch through the model to get the loss.\n",
    "            outputs  = model(b_input_ids, \n",
    "#                            token_type_ids=None, \n",
    "                             attention_mask = b_masks,\n",
    "                            labels=b_labels)\n",
    "            \n",
    "            loss = outputs[0] \n",
    "          \n",
    "        # If using DataParallel, average the loss across all GPUs\n",
    "        if isinstance(model, torch.nn.DataParallel) and loss is not None:\n",
    "            loss = loss.mean()\n",
    "\n",
    "        # Get the loss for this batch, and add it to the total loss for this epoch.\n",
    "        if loss is not None:\n",
    "            total_eval_loss += loss.item()\n",
    "\n",
    "        val_iterator.set_postfix(loss=total_eval_loss / (val_step + 1))   \n",
    "\n",
    "    avg_val_loss = total_eval_loss / len(validation_dataloader) if len(validation_dataloader) > 0 else 0\n",
    "\n",
    "    \n",
    "    validation_time = format_time(time.time() - t0)   \n",
    "    \n",
    "    print(f\"Average loss => Training: {avg_train_loss:.2f} | Validation: {avg_val_loss:.2f}\") \n",
    "\n",
    "    # Record all statistics from this epoch.\n",
    "    training_stats.append(\n",
    "        {\n",
    "            'epoch': epoch_i + 1,\n",
    "            'Training Loss': avg_train_loss,\n",
    "            'Valid. Loss': avg_val_loss,\n",
    "            'Training Time': training_time,\n",
    "            'Validation Time': validation_time\n",
    "        }\n",
    "    )\n",
    "    # Update best model if training loss improves\n",
    "    if avg_train_loss < best_training_loss:\n",
    "        best_training_loss = avg_train_loss \n",
    "        # best_model_path = os.path.join(output_dir, model_name)\n",
    "        \n",
    "        # This line ensures that the correct model is saved even if the code is running in a distributed/parallel environment\n",
    "        model_to_save = model.module if hasattr(model, 'module') else model  # Take care of distributed/parallel training\n",
    "\n",
    "        model_to_save.save_pretrained(args.output_dir)\n",
    "        \n",
    "        torch.save(model.state_dict(), os.path.join(args.output_dir, args.model_name))\n",
    "        tokenizer.save_pretrained(args.output_dir)\n",
    "        print(\"Model Saved\")\n",
    "    print(\"\\n\")\n",
    "\n",
    "print(\"\")\n",
    "print(\"Training complete!\")\n",
    "print(\"Total training took {:} (h:mm:ss)\".format(format_time(time.time()-total_t0)))\n"
   ]
  },
  {
   "cell_type": "code",
   "execution_count": null,
   "id": "72fedcd9",
   "metadata": {},
   "outputs": [
    {
     "data": {
      "text/html": [
       "<div>\n",
       "<style scoped>\n",
       "    .dataframe tbody tr th:only-of-type {\n",
       "        vertical-align: middle;\n",
       "    }\n",
       "\n",
       "    .dataframe tbody tr th {\n",
       "        vertical-align: top;\n",
       "    }\n",
       "\n",
       "    .dataframe thead th {\n",
       "        text-align: right;\n",
       "    }\n",
       "</style>\n",
       "<table border=\"1\" class=\"dataframe\">\n",
       "  <thead>\n",
       "    <tr style=\"text-align: right;\">\n",
       "      <th></th>\n",
       "      <th>Training Loss</th>\n",
       "      <th>Valid. Loss</th>\n",
       "      <th>Training Time</th>\n",
       "      <th>Validation Time</th>\n",
       "    </tr>\n",
       "    <tr>\n",
       "      <th>epoch</th>\n",
       "      <th></th>\n",
       "      <th></th>\n",
       "      <th></th>\n",
       "      <th></th>\n",
       "    </tr>\n",
       "  </thead>\n",
       "  <tbody>\n",
       "    <tr>\n",
       "      <th>1</th>\n",
       "      <td>0.864956</td>\n",
       "      <td>0.592991</td>\n",
       "      <td>0:09:10</td>\n",
       "      <td>0:00:22</td>\n",
       "    </tr>\n",
       "    <tr>\n",
       "      <th>2</th>\n",
       "      <td>0.570549</td>\n",
       "      <td>0.530607</td>\n",
       "      <td>0:09:08</td>\n",
       "      <td>0:00:22</td>\n",
       "    </tr>\n",
       "    <tr>\n",
       "      <th>3</th>\n",
       "      <td>0.497314</td>\n",
       "      <td>0.472090</td>\n",
       "      <td>0:09:06</td>\n",
       "      <td>0:00:22</td>\n",
       "    </tr>\n",
       "    <tr>\n",
       "      <th>4</th>\n",
       "      <td>0.432855</td>\n",
       "      <td>0.420732</td>\n",
       "      <td>0:09:07</td>\n",
       "      <td>0:00:22</td>\n",
       "    </tr>\n",
       "    <tr>\n",
       "      <th>5</th>\n",
       "      <td>0.388082</td>\n",
       "      <td>0.399043</td>\n",
       "      <td>0:09:04</td>\n",
       "      <td>0:00:22</td>\n",
       "    </tr>\n",
       "    <tr>\n",
       "      <th>...</th>\n",
       "      <td>...</td>\n",
       "      <td>...</td>\n",
       "      <td>...</td>\n",
       "      <td>...</td>\n",
       "    </tr>\n",
       "    <tr>\n",
       "      <th>96</th>\n",
       "      <td>0.018025</td>\n",
       "      <td>0.456091</td>\n",
       "      <td>0:09:53</td>\n",
       "      <td>0:00:24</td>\n",
       "    </tr>\n",
       "    <tr>\n",
       "      <th>97</th>\n",
       "      <td>0.017923</td>\n",
       "      <td>0.456495</td>\n",
       "      <td>0:09:59</td>\n",
       "      <td>0:00:24</td>\n",
       "    </tr>\n",
       "    <tr>\n",
       "      <th>98</th>\n",
       "      <td>0.017873</td>\n",
       "      <td>0.456675</td>\n",
       "      <td>0:09:32</td>\n",
       "      <td>0:00:22</td>\n",
       "    </tr>\n",
       "    <tr>\n",
       "      <th>99</th>\n",
       "      <td>0.017809</td>\n",
       "      <td>0.456871</td>\n",
       "      <td>0:09:25</td>\n",
       "      <td>0:00:22</td>\n",
       "    </tr>\n",
       "    <tr>\n",
       "      <th>100</th>\n",
       "      <td>0.017718</td>\n",
       "      <td>0.457028</td>\n",
       "      <td>0:09:32</td>\n",
       "      <td>0:00:22</td>\n",
       "    </tr>\n",
       "  </tbody>\n",
       "</table>\n",
       "<p>100 rows × 4 columns</p>\n",
       "</div>"
      ],
      "text/plain": [
       "       Training Loss  Valid. Loss Training Time Validation Time\n",
       "epoch                                                          \n",
       "1           0.864956     0.592991       0:09:10         0:00:22\n",
       "2           0.570549     0.530607       0:09:08         0:00:22\n",
       "3           0.497314     0.472090       0:09:06         0:00:22\n",
       "4           0.432855     0.420732       0:09:07         0:00:22\n",
       "5           0.388082     0.399043       0:09:04         0:00:22\n",
       "...              ...          ...           ...             ...\n",
       "96          0.018025     0.456091       0:09:53         0:00:24\n",
       "97          0.017923     0.456495       0:09:59         0:00:24\n",
       "98          0.017873     0.456675       0:09:32         0:00:22\n",
       "99          0.017809     0.456871       0:09:25         0:00:22\n",
       "100         0.017718     0.457028       0:09:32         0:00:22\n",
       "\n",
       "[100 rows x 4 columns]"
      ]
     },
     "execution_count": 13,
     "metadata": {},
     "output_type": "execute_result"
    }
   ],
   "source": [
    "# Create a DataFrame from our training statistics.\n",
    "df_stats = pd.DataFrame(data=training_stats)\n",
    "\n",
    "# Use the 'epoch' as the row index.\n",
    "df_stats = df_stats.set_index('epoch')\n",
    "\n",
    "# Display the table.\n",
    "df_stats"
   ]
  },
  {
   "cell_type": "code",
   "execution_count": null,
   "id": "554fd233",
   "metadata": {},
   "outputs": [
    {
     "data": {
      "image/png": "[encoded data removed]",
      "text/plain": [
       "<Figure size 1200x600 with 1 Axes>"
      ]
     },
     "metadata": {},
     "output_type": "display_data"
    }
   ],
   "source": [
    "# Use plot styling from seaborn.\n",
    "sns.set(style='darkgrid')\n",
    "\n",
    "# Set the plot size and font size.\n",
    "sns.set(font_scale=1.5)\n",
    "plt.rcParams[\"figure.figsize\"] = (12,6)\n",
    "\n",
    "# Plot the learning curve.\n",
    "plt.plot(df_stats['Training Loss'], 'b-o', label=\"Training\")\n",
    "plt.plot(df_stats['Valid. Loss'], 'g-o', label=\"Validation\")\n",
    "\n",
    "# Label the plot.\n",
    "plt.title(\"Training & Validation Loss\")\n",
    "plt.xlabel(\"Epoch\")\n",
    "plt.ylabel(\"Loss\")\n",
    "plt.legend()\n",
    "\n",
    "# Set x-ticks for the length of epochs\n",
    "num_epochs = len(df_stats)\n",
    "plt.xticks(range(0, num_epochs, 10))\n",
    "\n",
    "plt.show()\n"
   ]
  },
  {
   "cell_type": "code",
   "execution_count": null,
   "id": "ad654e79",
   "metadata": {},
   "outputs": [],
   "source": [
    "# Load the tokenizer\n",
    "tokenizer = GPT2Tokenizer.from_pretrained(args.output_dir)\n",
    "\n",
    "# Load the trained model\n",
    "model_config = GPT2Config.from_pretrained('gpt2', vocab_size=len(tokenizer))\n",
    "model = CustomGPT2LMHeadModel(model_config)\n",
    "model.load_state_dict(torch.load(os.path.join(args.output_dir, args.model_name)))\n",
    "\n",
    "\n",
    "# Move the model to the appropriate device (GPU if available, otherwise CPU)\n",
    "model = model.to(device)"
   ]
  },
  {
   "cell_type": "code",
   "execution_count": null,
   "id": "60597ae9",
   "metadata": {},
   "outputs": [],
   "source": [
    "test_df = pd.read_csv(args.test_data)"
   ]
  },
  {
   "cell_type": "code",
   "execution_count": null,
   "id": "f98fdea7",
   "metadata": {},
   "outputs": [],
   "source": [
    "# Generates the answer for the data test.\n",
    "model.eval()\n",
    "def generate_ans(question: str):\n",
    "    responses = []\n",
    "    input_prompt = question\n",
    "    prompt = f\"\\n<|startoftext|>[WP] {input_prompt} \\n[RESPONSE]\"\n",
    "\n",
    "    generated = torch.tensor(tokenizer.encode(prompt)).unsqueeze(0)\n",
    "    generated = generated.to(device)\n",
    "\n",
    "    sample_outputs = model.generate(\n",
    "                                    generated, \n",
    "                                    do_sample=True,   \n",
    "                                    top_k=50, \n",
    "                                    max_length = 512,\n",
    "                                    top_p=0.95, \n",
    "                                    num_return_sequences=1\n",
    "                                    )\n",
    "    \n",
    "    for i, sample_output in enumerate(sample_outputs):\n",
    "        # Flatten the tensor if necessary\n",
    "        if sample_output.dim() > 1:\n",
    "            sample_output = sample_output.squeeze()\n",
    "        \n",
    "        # Decode to text\n",
    "        response_text = tokenizer.decode(sample_output.tolist(), skip_special_tokens=True)\n",
    "        \n",
    "        # Split based on your markers\n",
    "        wp_responses = re.split(r\"\\[WP\\].*?\\n|\\[RESPONSE\\]\", response_text)[1:]\n",
    "    return wp_responses[1].strip() if wp_responses else \"No response found\""
   ]
  },
  {
   "cell_type": "code",
   "execution_count": null,
   "id": "ceb1acfa",
   "metadata": {},
   "outputs": [
    {
     "name": "stderr",
     "output_type": "stream",
     "text": [
      "  0%|          | 0/2081 [00:00<?, ?it/s]"
     ]
    },
    {
     "name": "stderr",
     "output_type": "stream",
     "text": [
      "100%|██████████| 2081/2081 [4:27:20<00:00,  7.71s/it]  "
     ]
    },
    {
     "name": "stdout",
     "output_type": "stream",
     "text": [
      "Output saved to models_custom_1\\predicted_answer.txt\n"
     ]
    },
    {
     "name": "stderr",
     "output_type": "stream",
     "text": [
      "\n"
     ]
    }
   ],
   "source": [
    "text_file = os.path.join(args.output_dir, args.save_text_file)\n",
    "answers1 = []\n",
    "\n",
    "\n",
    "with open(text_file, 'w') as f:\n",
    "    for i, row in tqdm(test_df.iterrows(), total=len(test_df)):\n",
    "        question, answer = row\n",
    "        answer_gpt = generate_ans(question)\n",
    "        answers1.append(answer_gpt)\n",
    "\n",
    "        f.write(f\"Question {i+1}/{len(test_df)} => {question}\\n\")\n",
    "        f.write(f\"Answer => {answer}\\n\")\n",
    "        f.write(f\"Predicted Answer => {answer_gpt}\\n\")\n",
    "        f.write('\\n\\n')\n",
    "\n",
    "# Optionally, you can print a message indicating that the output has been saved\n",
    "print(f\"Output saved to {text_file}\")"
   ]
  },
  {
   "cell_type": "code",
   "execution_count": null,
   "id": "a2e57d80",
   "metadata": {},
   "outputs": [],
   "source": [
    "def calculate_rouge_scores(preds, original_text_col, predicted_result_col):\n",
    "    rouge_scores = []\n",
    "    hyps = []  # list of predicted answers\n",
    "    refs = []  # list of reference answers\n",
    "\n",
    "    for index, row in preds.iterrows():\n",
    "        act_ans = str(row[original_text_col])\n",
    "        pred_ans = str(row[predicted_result_col])\n",
    "\n",
    "        hyps.append(pred_ans)\n",
    "        refs.append(act_ans)\n",
    "\n",
    "    rouge = Rouge()\n",
    "    scores = rouge.get_scores(hyps, refs, avg=True)\n",
    "    rouge_scores.append(scores)\n",
    "\n",
    "    # Create a list of dictionaries for tabulating the scores\n",
    "    score_table = [{'Metric': metric, 'Precision': score['p'], 'Recall': score['r'], 'F1-Score': score['f']} for metric, score in scores.items()]\n",
    "    metrics_df = pd.DataFrame(score_table)\n",
    "    \n",
    "    return metrics_df"
   ]
  },
  {
   "cell_type": "code",
   "execution_count": null,
   "id": "e8347b30",
   "metadata": {},
   "outputs": [],
   "source": [
    "# Add the predicted answers as a new column in the dataframe\n",
    "test_df[args.predicted_result] = answers1\n",
    "\n",
    "test_predict = os.path.join(args.output_dir, args.predict_file)\n",
    "\n",
    "# Save the updated dataframe to a new CSV file\n",
    "test_df.to_csv(test_predict, index=False)\n",
    "\n",
    "print(len(answers1))\n",
    "# Load the QApairs.csv file into a pandas dataframe\n",
    "preds = pd.read_csv(test_predict)"
   ]
  },
  {
   "cell_type": "code",
   "execution_count": null,
   "id": "66cd07b7",
   "metadata": {},
   "outputs": [],
   "source": [
    "# Add the predicted answers as a new column in the dataframe\n",
    "test_df[args.predicted_result] = answers1\n",
    "\n",
    "test_predict = os.path.join(args.output_dir, args.predict_file)\n",
    "\n",
    "# Save the updated dataframe to a new CSV file\n",
    "test_df.to_csv(test_predict, index=False)"
   ]
  },
  {
   "cell_type": "code",
   "execution_count": null,
   "id": "39a5ba60",
   "metadata": {},
   "outputs": [
    {
     "data": {
      "text/html": [
       "<div>\n",
       "<style scoped>\n",
       "    .dataframe tbody tr th:only-of-type {\n",
       "        vertical-align: middle;\n",
       "    }\n",
       "\n",
       "    .dataframe tbody tr th {\n",
       "        vertical-align: top;\n",
       "    }\n",
       "\n",
       "    .dataframe thead th {\n",
       "        text-align: right;\n",
       "    }\n",
       "</style>\n",
       "<table border=\"1\" class=\"dataframe\">\n",
       "  <thead>\n",
       "    <tr style=\"text-align: right;\">\n",
       "      <th></th>\n",
       "      <th>Metric</th>\n",
       "      <th>Precision</th>\n",
       "      <th>Recall</th>\n",
       "      <th>F1-Score</th>\n",
       "    </tr>\n",
       "  </thead>\n",
       "  <tbody>\n",
       "    <tr>\n",
       "      <th>0</th>\n",
       "      <td>rouge-1</td>\n",
       "      <td>0.600745</td>\n",
       "      <td>0.502953</td>\n",
       "      <td>0.528094</td>\n",
       "    </tr>\n",
       "    <tr>\n",
       "      <th>1</th>\n",
       "      <td>rouge-2</td>\n",
       "      <td>0.469578</td>\n",
       "      <td>0.412039</td>\n",
       "      <td>0.424645</td>\n",
       "    </tr>\n",
       "    <tr>\n",
       "      <th>2</th>\n",
       "      <td>rouge-l</td>\n",
       "      <td>0.584838</td>\n",
       "      <td>0.492629</td>\n",
       "      <td>0.516065</td>\n",
       "    </tr>\n",
       "  </tbody>\n",
       "</table>\n",
       "</div>"
      ],
      "text/plain": [
       "    Metric  Precision    Recall  F1-Score\n",
       "0  rouge-1   0.600745  0.502953  0.528094\n",
       "1  rouge-2   0.469578  0.412039  0.424645\n",
       "2  rouge-l   0.584838  0.492629  0.516065"
      ]
     },
     "execution_count": 31,
     "metadata": {},
     "output_type": "execute_result"
    }
   ],
   "source": [
    "metrics_df = calculate_rouge_scores(preds, args.original_text, args.predicted_result)\n",
    "metrics_df"
   ]
  },
  {
   "cell_type": "code",
   "execution_count": null,
   "id": "ab03c29d",
   "metadata": {},
   "outputs": [],
   "source": []
  }
 ],
 "metadata": {
  "kernelspec": {
   "display_name": "genai",
   "language": "python",
   "name": "python3"
  },
  "language_info": {
   "codemirror_mode": {
    "name": "ipython",
    "version": 3
   },
   "file_extension": ".py",
   "mimetype": "text/x-python",
   "name": "python",
   "nbconvert_exporter": "python",
   "pygments_lexer": "ipython3",
   "version": "3.11.8"
  }
 },
 "nbformat": 4,
 "nbformat_minor": 5
}
