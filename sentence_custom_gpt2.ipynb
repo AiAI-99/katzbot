{
 "cells": [
  {
   "cell_type": "markdown",
   "id": "c97e71e6",
   "metadata": {},
   "source": [
    "# Import Libraries"
   ]
  },
  {
   "cell_type": "code",
   "execution_count": 1,
   "id": "fe0337a1",
   "metadata": {},
   "outputs": [],
   "source": [
    "# Import Libraries\n",
    "import os\n",
    "import re\n",
    "import time\n",
    "import json\n",
    "import nltk\n",
    "import torch\n",
    "import random\n",
    "import datetime\n",
    "import numpy as np\n",
    "import pandas as pd\n",
    "import seaborn as sns\n",
    "import matplotlib.pyplot as plt\n",
    "from transformers import AdamW, get_linear_schedule_with_warmup\n",
    "from transformers import GPT2LMHeadModel,  GPT2Tokenizer, GPT2Config\n",
    "from torch.utils.data import Dataset, DataLoader, random_split, RandomSampler, SequentialSampler\n",
    "torch.manual_seed(42)\n",
    "import math\n",
    "import torch.nn as nn\n",
    "from torch.nn import functional as F\n",
    "from torch.nn import DataParallel\n",
    "import torch.optim as optim\n",
    "from tqdm import tqdm\n",
    "from transformers import GPT2Model, GPT2Config\n",
    "import seaborn as sns\n",
    "import matplotlib.pyplot as plt\n",
    "from rouge import Rouge\n",
    "from copy import deepcopy\n"
   ]
  },
  {
   "cell_type": "markdown",
   "id": "76e74f29",
   "metadata": {},
   "source": [
    "# Model Configuration"
   ]
  },
  {
   "cell_type": "code",
   "execution_count": 2,
   "id": "f22cf7be",
   "metadata": {},
   "outputs": [],
   "source": [
    "class Args():\n",
    "    def __init__(self):\n",
    "        # load train dataset\n",
    "        self.dataset_dir = r\"D:\\KatzBot\\katzbot\"\n",
    "        \n",
    "        self.train_path = r\"dataset_katzbot/New_Train_Sentence_Pairs.csv\"\n",
    "        self.input_file_path = os.path.join(self.dataset_dir, self.train_path)\n",
    "        \n",
    "        \n",
    "        # list of gpt model \n",
    "        self.gpt = \"gpt2\"\n",
    "        # # Model and tokeniser\n",
    "        self.model_type = self.gpt\n",
    "        self.tokenizer_name = self.gpt\n",
    "        \n",
    "        # Sets the directory to which the trained model will be saved\n",
    "        self.output_dir = 'models_custom_sentence'\n",
    "        self.model_name = \"custom_sen_gpt2.pt\"\n",
    "\n",
    "        \n",
    "        # Parameters\n",
    "        # Set the seed value all over the place to make this reproducible.\n",
    "        self.seed_val = 42\n",
    "        self.batch_size = 4\n",
    "        self.epochs = 60\n",
    "        self.learning_rate = 5e-3\n",
    "        self.warmup_steps = 1e1\n",
    "        self.epsilon = 1e-5\n",
    "        self.weight_decay = 1e-1\n",
    "        self.sample_every = 100\n",
    "        self.device = torch.device(\"cuda\" if torch.cuda.is_available() else \"cpu\")\n",
    "\n",
    "args = Args()\n"
   ]
  },
  {
   "cell_type": "code",
   "execution_count": 3,
   "id": "984a5771",
   "metadata": {},
   "outputs": [],
   "source": [
    "# Set the seed value all over the place to make this reproducible.\n",
    "seed_val = args.seed_val\n",
    "\n",
    "# Set the random seed for the Python built-in `random` module.\n",
    "random.seed(seed_val)\n",
    "np.random.seed(seed_val)\n",
    "\n",
    "# Set the random seed for PyTorch to ensure reproducibility on the GPU.\n",
    "torch.manual_seed(seed_val)\n",
    "torch.cuda.manual_seed_all(seed_val)\n"
   ]
  },
  {
   "cell_type": "markdown",
   "id": "34687c67",
   "metadata": {},
   "source": [
    "# Custom Model"
   ]
  },
  {
   "cell_type": "code",
   "execution_count": 4,
   "id": "686a4c7b",
   "metadata": {},
   "outputs": [],
   "source": [
    "class CustomGPT2LMHeadModel(nn.Module):\n",
    "    def __init__(self, config, num_extra_blocks=0, num_extra_attentions=0):\n",
    "        super().__init__()\n",
    "        self.config = config  # Store the configuration passed to the model\n",
    "        self.gpt2 = GPT2Model(config)  \n",
    "\n",
    "        # Add additional MultiheadAttention layers as specified by num_extra_attentions\n",
    "        self.extra_attentions = nn.ModuleList([\n",
    "            nn.MultiheadAttention(embed_dim=config.n_embd, num_heads=config.num_attention_heads)\n",
    "            for _ in range(num_extra_attentions)\n",
    "        ])\n",
    "\n",
    "        # Clone the first block from GPT2 multiple times as specified by num_extra_blocks\n",
    "        self.extra_blocks = nn.ModuleList([deepcopy(self.gpt2.h[0]) for _ in range(num_extra_blocks)])\n",
    "        \n",
    "        # Linear layer for converting hidden states to vocabulary size (output layer)\n",
    "        self.lm_head = nn.Linear(config.n_embd, config.vocab_size, bias=False)\n",
    "        \n",
    "        # Ensure the input and output embeddings share weights\n",
    "        self.tie_weights()  \n",
    "        self.device = torch.device(\"cuda\") \n",
    "         \n",
    "    def tie_weights(self):\n",
    "        \"\"\" Tie the weights between the input embeddings and the output logits. \"\"\"\n",
    "        self.lm_head.weight = nn.Parameter(self.gpt2.wte.weight.clone())\n",
    "\n",
    "    def resize_token_embeddings(self, new_num_tokens):\n",
    "        \"\"\" Resize the token embeddings in the model to accommodate new vocabulary size. \"\"\"\n",
    "        old_embeddings = self.gpt2.wte\n",
    "        new_embeddings = nn.Embedding(new_num_tokens, old_embeddings.embedding_dim)\n",
    "        new_embeddings.to(old_embeddings.weight.device)\n",
    "\n",
    "        # Copy weights from old embeddings to new one for the overlapped part\n",
    "        num_tokens_to_copy = min(new_num_tokens, old_embeddings.num_embeddings)\n",
    "        new_embeddings.weight.data[:num_tokens_to_copy, :] = old_embeddings.weight.data[:num_tokens_to_copy, :]\n",
    "\n",
    "        # Update embeddings in model\n",
    "        self.gpt2.wte = new_embeddings\n",
    "        self.tie_weights()  # Re-tie weights after resizing embeddings\n",
    "\n",
    "    def forward(self, input_ids, attention_mask=None, labels=None):\n",
    "        # Process input through the main GPT-2 model\n",
    "        outputs = self.gpt2(input_ids=input_ids, attention_mask=attention_mask)\n",
    "        sequence_output = outputs.last_hidden_state\n",
    "\n",
    "        # Handle the attention mask for additional attention layers\n",
    "        if attention_mask is not None:\n",
    "            attention_mask = attention_mask.bool()\n",
    "            key_padding_mask = ~attention_mask  # Invert the attention mask for masking in MultiheadAttention\n",
    "        else:\n",
    "            key_padding_mask = None\n",
    "\n",
    "        # Apply extra attention layers before processing through the GPT-2 blocks\n",
    "        for attention in self.extra_attentions:\n",
    "            sequence_output = sequence_output.transpose(0, 1)  # Transpose for attention input\n",
    "            attn_output, _ = attention(sequence_output, sequence_output, sequence_output, key_padding_mask=key_padding_mask)\n",
    "            sequence_output = attn_output.transpose(0, 1)  # Transpose back\n",
    "\n",
    "        # Process output through additional GPT-2 blocks\n",
    "        for block in self.extra_blocks:\n",
    "            layer_outputs = block(sequence_output, attention_mask=outputs.attentions)\n",
    "            sequence_output = layer_outputs[0]  # Only take the output, not the attention scores\n",
    "\n",
    "        # Calculate logits using the output layer\n",
    "        logits = self.lm_head(sequence_output)\n",
    "\n",
    "        loss = None\n",
    "        if labels is not None:\n",
    "            # Calculate loss if labels are provided\n",
    "            shift_logits = logits[..., :-1, :].contiguous()\n",
    "            shift_labels = labels[..., 1:].contiguous()\n",
    "            loss_fct = nn.CrossEntropyLoss()\n",
    "            loss = loss_fct(shift_logits.view(-1, shift_logits.size(-1)), shift_labels.view(-1))\n",
    "\n",
    "        return (loss, logits) if loss is not None else logits\n",
    "    \n",
    "    def generate(self, generated, max_length=512, do_sample=True, top_k=50, top_p=0.95, num_return_sequences=1, pad_token_id=None, eos_token_id=None):\n",
    "        self.eval()  # Set the model to eval mode for generation\n",
    "        generated_sequences = []\n",
    "\n",
    "        with torch.no_grad():\n",
    "            for _ in range(num_return_sequences):\n",
    "                # # Start with bos token\n",
    "                # input_ids = torch.tensor([bos_token_id], device=self.device).unsqueeze(0)\n",
    "                # generated = input_ids\n",
    "\n",
    "                for _ in range(max_length):\n",
    "                    outputs = self(generated, attention_mask=None)  # No need for labels or attention mask here\n",
    "                    logits = outputs[1] if isinstance(outputs, tuple) else outputs\n",
    "                    logits = logits[:, -1, :]  # Get the logits for the last token produced\n",
    "\n",
    "                    # Apply top-k and top-p filtering\n",
    "                    filtered_logits = top_k_top_p_filtering(logits.squeeze(0), top_k=top_k, top_p=top_p)\n",
    "                    probabilities = F.softmax(filtered_logits, dim=-1)\n",
    "                    \n",
    "                    # Sample from the filtered distribution\n",
    "                    next_token_id = torch.multinomial(probabilities, 1).unsqueeze(0)\n",
    "\n",
    "                    # Check for eos_token_id\n",
    "                    if next_token_id == eos_token_id:\n",
    "                        break\n",
    "\n",
    "                    # Append generated token ID to generated sequence\n",
    "                    generated = torch.cat((generated, next_token_id), dim=1)\n",
    "\n",
    "                generated_sequences.append(generated)\n",
    "\n",
    "        return generated_sequences\n",
    "    \n",
    "    \n",
    "    def save_pretrained(self, save_directory):\n",
    "        os.makedirs(save_directory, exist_ok=True)\n",
    "        model_to_save = self.module if hasattr(self, 'module') else self\n",
    "        torch.save(model_to_save.state_dict(), os.path.join(save_directory, 'pytorch_model.bin'))\n",
    "        with open(os.path.join(save_directory, 'config.json'), 'w') as f:\n",
    "            json.dump(self.config.__dict__, f)\n",
    "\n",
    "\n",
    "def top_k_top_p_filtering(logits, top_k=0, top_p=0.0, filter_value=-float('Inf')):\n",
    "    top_k = min(top_k, logits.size(-1))  # Safety check\n",
    "    if top_k > 0:\n",
    "        indices_to_remove = logits < torch.topk(logits, top_k)[0][..., -1, None]\n",
    "        logits[indices_to_remove] = filter_value\n",
    "\n",
    "    if top_p < 1.0:\n",
    "        sorted_logits, sorted_indices = torch.sort(logits, descending=True)\n",
    "        cumulative_probs = torch.cumsum(F.softmax(sorted_logits, dim=-1), dim=-1)\n",
    "        sorted_indices_to_remove = cumulative_probs > top_p\n",
    "        sorted_indices_to_remove[..., 1:] = sorted_indices_to_remove[..., :-1].clone()\n",
    "        sorted_indices_to_remove[..., 0] = 0\n",
    "        indices_to_remove = sorted_indices[sorted_indices_to_remove]\n",
    "        logits[indices_to_remove] = filter_value\n",
    "\n",
    "    return logits\n",
    "\n"
   ]
  },
  {
   "cell_type": "code",
   "execution_count": 5,
   "id": "d4f9580e",
   "metadata": {},
   "outputs": [],
   "source": [
    "# Load the question-answer dataset\n",
    "df = pd.read_csv(args.input_file_path)\n",
    "\n",
    "# Add marks for original promp and repsonse marks\n",
    "df['sentence_2'] = '[WP]' + df['sentence_2'] \n",
    "df['sentence_1'] = '\\n[RESPONSE]' + df['sentence_1']\n",
    "\n",
    "# merge just question and answer into one\n",
    "howtos = df[\"sentence_2\"] + df[\"sentence_1\"] \n",
    "\n",
    "# clean up by removing certain characters or patterns that may cause issues downstream\n",
    "howtos.str.replace('\"', '').str.replace('\\n,\\n', '').str.replace('``', '').str.replace(',,', ',')\n",
    "\n",
    "\n",
    "# Load the GPT tokenizer and add special tokens.\n",
    "tokenizer = GPT2Tokenizer.from_pretrained('gpt2', \n",
    "                                          bos_token='<|startoftext|>', \n",
    "                                          eos_token='<|endoftext|>', \n",
    "                                          pad_token='<|pad|>')\n",
    "\n",
    "\n"
   ]
  },
  {
   "cell_type": "code",
   "execution_count": 6,
   "id": "bc1f7717",
   "metadata": {},
   "outputs": [
    {
     "name": "stderr",
     "output_type": "stream",
     "text": [
      "[nltk_data] Downloading package punkt to\n",
      "[nltk_data]     C:\\Users\\yzhang21\\AppData\\Roaming\\nltk_data...\n",
      "[nltk_data]   Package punkt is already up-to-date!\n"
     ]
    },
    {
     "data": {
      "text/plain": [
       "<Figure size 2000x1000 with 0 Axes>"
      ]
     },
     "metadata": {},
     "output_type": "display_data"
    },
    {
     "data": {
      "image/png": "[encoded data removed]",
      "text/plain": [
       "<Figure size 500x500 with 1 Axes>"
      ]
     },
     "metadata": {},
     "output_type": "display_data"
    }
   ],
   "source": [
    "nltk.download('punkt')\n",
    "# check distribution of the answers' length\n",
    "doc_lengths = []  \n",
    "\n",
    "for howto in howtos: \n",
    "    # Tokenize the \"howto\" text into individual words and get the length of the tokenized text\n",
    "    tokens = nltk.word_tokenize(howto)\n",
    "    doc_lengths.append(len(tokens))  \n",
    "    \n",
    "# Convert the list of lengths into a NumPy array for easier manipulation\n",
    "doc_lengths = np.array(doc_lengths)  \n",
    "plt.figure(figsize=(20, 10))  \n",
    "# Set the style of the seaborn plots to \"whitegrid\"\n",
    "sns.set(style=\"whitegrid\")  \n",
    "\n",
    "# Plot the distribution of document lengths using a histogram (displot) with a kernel density estimate (kde)\n",
    "sns.displot(doc_lengths, color=\"blue\", kde=True)\n",
    "\n",
    "# Display the plot\n",
    "plt.show()"
   ]
  },
  {
   "cell_type": "markdown",
   "id": "6b926ca6",
   "metadata": {},
   "source": [
    "# Custom Dataset"
   ]
  },
  {
   "cell_type": "code",
   "execution_count": 7,
   "id": "bf9855f2",
   "metadata": {},
   "outputs": [],
   "source": [
    "# Defining a PyTorch dataset class called GPT2Dataset that prepares text data for use with a GPT-2 language model\n",
    "class GPT2Dataset(Dataset):\n",
    "    # Define the class constructor method\n",
    "    def __init__(self, txt_list, tokenizer, gpt2_type=\"gpt2\", max_length=512):\n",
    "        \n",
    "        # Store the tokenizer and initialize the input_ids and attn_masks lists\n",
    "        self.tokenizer = tokenizer\n",
    "        self.input_ids = []\n",
    "        self.attn_masks = []\n",
    "        \n",
    "        # Iterate through each text sample in txt_list\n",
    "        for txt in txt_list:\n",
    "            \n",
    "            # Tokenize the text sample using the tokenizer and truncate it if necessary\n",
    "            text = txt\n",
    "            encodings_dict = tokenizer('<|startoftext|>'+ text + '<|endoftext|>', truncation=True, max_length=max_length, padding=\"max_length\")\n",
    "            \n",
    "            # Add the tokenized input and attention mask to their respective lists\n",
    "            self.input_ids.append(torch.tensor(encodings_dict['input_ids']))\n",
    "            self.attn_masks.append(torch.tensor(encodings_dict['attention_mask']))\n",
    "            \n",
    "    # Define the __len__ method, which returns the number of input samples in the dataset\n",
    "    def __len__(self):\n",
    "        return len(self.input_ids)\n",
    "    \n",
    "    # Define the __getitem__ method, which returns the input sample and corresponding attention mask at a given index\n",
    "    def __getitem__(self, idx):\n",
    "        return self.input_ids[idx], self.attn_masks[idx] \n"
   ]
  },
  {
   "cell_type": "code",
   "execution_count": 8,
   "id": "eca733f9",
   "metadata": {},
   "outputs": [],
   "source": [
    "dataset = GPT2Dataset(howtos, tokenizer, max_length=512)\n",
    "\n",
    "# Split the dataset into training and validation sets with a 80/20 split\n",
    "train_size = int(0.8 * len(dataset))\n",
    "val_size = len(dataset) - train_size\n",
    "\n",
    "train_dataset, val_dataset = random_split(dataset, [train_size, val_size])\n",
    "\n",
    "\n",
    "# Create a PyTorch DataLoader instance for the training set \n",
    "train_dataloader = DataLoader(\n",
    "            train_dataset,  # The training dataset\n",
    "            sampler = RandomSampler(train_dataset), # Randomly sample elements from the training dataset\n",
    "            batch_size = args.batch_size # The number of samples per batch to load\n",
    "        )\n",
    "\n",
    "# Create a PyTorch DataLoader instance for the validation set\n",
    "validation_dataloader = DataLoader(\n",
    "            val_dataset, # The validation dataset\n",
    "            sampler = SequentialSampler(val_dataset), # Iterate through the validation dataset sequentially\n",
    "            batch_size = args.batch_size # The number of samples per batch to load\n",
    "        )\n"
   ]
  },
  {
   "cell_type": "markdown",
   "id": "075d80f7",
   "metadata": {},
   "source": [
    "# Model Initialization"
   ]
  },
  {
   "cell_type": "code",
   "execution_count": 9,
   "id": "3e62bdd5",
   "metadata": {},
   "outputs": [],
   "source": [
    "\n",
    "# Load the GPT2Config from the 'gpt2' pre-trained model and set output_hidden_states to False\n",
    "configuration = GPT2Config.from_pretrained(args.model_type, \n",
    "                                           output_hidden_states=False)\n",
    "\n",
    "# Load the tokenizer and resize embeddings\n",
    "model = CustomGPT2LMHeadModel(configuration)\n",
    "\n",
    "\n",
    "# Resize the model's token embeddings to match the size of the tokenizer's vocabulary\n",
    "# This step is necessary if any special tokens have been added to the tokenizer\n",
    "model.resize_token_embeddings(len(tokenizer))\n",
    "\n",
    "# Tell pytorch to run this model on the GPU.\n",
    "device = args.device\n",
    "\n",
    "# Move model to available device\n",
    "model = model.to(device)\n",
    "\n",
    "# Check if multiple GPUs are available\n",
    "if torch.cuda.device_count() > 0:\n",
    "    # Wrap the model with DataParallel\n",
    "    model = DataParallel(model)\n",
    "\n",
    "\n",
    "\n",
    "optimizer = optim.AdamW(model.parameters(),\n",
    "                        lr=args.learning_rate,\n",
    "                        eps=args.epsilon,\n",
    "                       weight_decay = args.weight_decay)\n",
    "\n",
    "# Calculate the total number of training steps.\n",
    "# This is the number of batches in the training data multiplied by the number of epochs.\n",
    "total_steps = len(train_dataloader) * args.epochs\n",
    "\n",
    "scheduler = get_linear_schedule_with_warmup(optimizer, \n",
    "                                            num_warmup_steps = args.warmup_steps, \n",
    "                                            num_training_steps = total_steps)\n",
    "\n",
    "def format_time(elapsed):\n",
    "    return str(datetime.timedelta(seconds=int(round((elapsed)))))\n",
    "\n",
    "# Release all unused memory that is held by the GPU memory cache\n",
    "torch.cuda.empty_cache()\n",
    "\n",
    "total_t0 = time.time()\n",
    "\n",
    "training_stats = []\n",
    "\n"
   ]
  },
  {
   "cell_type": "code",
   "execution_count": null,
   "id": "05570ea3",
   "metadata": {},
   "outputs": [],
   "source": [
    "# If the directory does not exist, it is created\n",
    "if not os.path.exists(args.output_dir):\n",
    "    os.makedirs(args.output_dir)"
   ]
  },
  {
   "cell_type": "code",
   "execution_count": 11,
   "id": "96689310",
   "metadata": {},
   "outputs": [
    {
     "name": "stdout",
     "output_type": "stream",
     "text": [
      "|===========================================================================|\n",
      "|                  PyTorch CUDA memory summary, device ID 0                 |\n",
      "|---------------------------------------------------------------------------|\n",
      "|            CUDA OOMs: 0            |        cudaMalloc retries: 0         |\n",
      "|===========================================================================|\n",
      "|        Metric         | Cur Usage  | Peak Usage | Tot Alloc  | Tot Freed  |\n",
      "|---------------------------------------------------------------------------|\n",
      "| Allocated memory      | 650720 KiB | 650720 KiB | 650720 KiB |      0 B   |\n",
      "|       from large pool | 637952 KiB | 637952 KiB | 637952 KiB |      0 B   |\n",
      "|       from small pool |  12768 KiB |  12768 KiB |  12768 KiB |      0 B   |\n",
      "|---------------------------------------------------------------------------|\n",
      "| Active memory         | 650720 KiB | 650720 KiB | 650720 KiB |      0 B   |\n",
      "|       from large pool | 637952 KiB | 637952 KiB | 637952 KiB |      0 B   |\n",
      "|       from small pool |  12768 KiB |  12768 KiB |  12768 KiB |      0 B   |\n",
      "|---------------------------------------------------------------------------|\n",
      "| Requested memory      | 649164 KiB | 649164 KiB | 649164 KiB |      0 B   |\n",
      "|       from large pool | 636402 KiB | 636402 KiB | 636402 KiB |      0 B   |\n",
      "|       from small pool |  12762 KiB |  12762 KiB |  12762 KiB |      0 B   |\n",
      "|---------------------------------------------------------------------------|\n",
      "| GPU reserved memory   | 706560 KiB | 706560 KiB | 706560 KiB |      0 B   |\n",
      "|       from large pool | 692224 KiB | 692224 KiB | 692224 KiB |      0 B   |\n",
      "|       from small pool |  14336 KiB |  14336 KiB |  14336 KiB |      0 B   |\n",
      "|---------------------------------------------------------------------------|\n",
      "| Non-releasable memory |  55840 KiB |  55849 KiB | 269821 KiB | 213981 KiB |\n",
      "|       from large pool |  54272 KiB |  54272 KiB | 261632 KiB | 207360 KiB |\n",
      "|       from small pool |   1568 KiB |   2045 KiB |   8189 KiB |   6621 KiB |\n",
      "|---------------------------------------------------------------------------|\n",
      "| Allocations           |     173    |     173    |     173    |       0    |\n",
      "|       from large pool |      51    |      51    |      51    |       0    |\n",
      "|       from small pool |     122    |     122    |     122    |       0    |\n",
      "|---------------------------------------------------------------------------|\n",
      "| Active allocs         |     173    |     173    |     173    |       0    |\n",
      "|       from large pool |      51    |      51    |      51    |       0    |\n",
      "|       from small pool |     122    |     122    |     122    |       0    |\n",
      "|---------------------------------------------------------------------------|\n",
      "| GPU reserved segments |      28    |      28    |      28    |       0    |\n",
      "|       from large pool |      21    |      21    |      21    |       0    |\n",
      "|       from small pool |       7    |       7    |       7    |       0    |\n",
      "|---------------------------------------------------------------------------|\n",
      "| Non-releasable allocs |      21    |      21    |      26    |       5    |\n",
      "|       from large pool |      19    |      19    |      19    |       0    |\n",
      "|       from small pool |       2    |       2    |       7    |       5    |\n",
      "|---------------------------------------------------------------------------|\n",
      "| Oversize allocations  |       0    |       0    |       0    |       0    |\n",
      "|---------------------------------------------------------------------------|\n",
      "| Oversize GPU segments |       0    |       0    |       0    |       0    |\n",
      "|===========================================================================|\n",
      "\n"
     ]
    }
   ],
   "source": [
    "# Clear the GPU memory cache to free up memory\n",
    "torch.cuda.empty_cache()\n",
    "# Display a summary of GPU memory usage\n",
    "memory_summary = torch.cuda.memory_summary(device=None, abbreviated=False)\n",
    "# Print the memory summary\n",
    "print(memory_summary)"
   ]
  },
  {
   "cell_type": "code",
   "execution_count": 12,
   "id": "8675a9d6",
   "metadata": {},
   "outputs": [
    {
     "name": "stderr",
     "output_type": "stream",
     "text": [
      "Epoch 1/60 - Training: 100%|██████████| 1256/1256 [07:23<00:00,  2.83batch/s, loss=0.63] \n",
      "Epoch 1/60 - Validation: 100%|██████████| 314/314 [00:17<00:00, 17.73batch/s, loss=0.839]\n"
     ]
    },
    {
     "name": "stdout",
     "output_type": "stream",
     "text": [
      "Average loss => Training: 2.27 | Validation: 0.84\n",
      "Model Saved\n",
      "\n",
      "\n"
     ]
    },
    {
     "name": "stderr",
     "output_type": "stream",
     "text": [
      "Epoch 2/60 - Training: 100%|██████████| 1256/1256 [07:17<00:00,  2.87batch/s, loss=0.597]\n",
      "Epoch 2/60 - Validation: 100%|██████████| 314/314 [00:17<00:00, 17.63batch/s, loss=0.71] \n"
     ]
    },
    {
     "name": "stdout",
     "output_type": "stream",
     "text": [
      "Average loss => Training: 0.76 | Validation: 0.71\n",
      "Model Saved\n",
      "\n",
      "\n"
     ]
    },
    {
     "name": "stderr",
     "output_type": "stream",
     "text": [
      "Epoch 3/60 - Training: 100%|██████████| 1256/1256 [07:16<00:00,  2.88batch/s, loss=0.381]\n",
      "Epoch 3/60 - Validation: 100%|██████████| 314/314 [00:17<00:00, 17.59batch/s, loss=0.612]\n"
     ]
    },
    {
     "name": "stdout",
     "output_type": "stream",
     "text": [
      "Average loss => Training: 0.66 | Validation: 0.61\n",
      "Model Saved\n",
      "\n",
      "\n"
     ]
    },
    {
     "name": "stderr",
     "output_type": "stream",
     "text": [
      "Epoch 4/60 - Training: 100%|██████████| 1256/1256 [07:18<00:00,  2.86batch/s, loss=0.522]\n",
      "Epoch 4/60 - Validation: 100%|██████████| 314/314 [00:17<00:00, 17.56batch/s, loss=0.563]\n"
     ]
    },
    {
     "name": "stdout",
     "output_type": "stream",
     "text": [
      "Average loss => Training: 0.57 | Validation: 0.56\n",
      "Model Saved\n",
      "\n",
      "\n"
     ]
    },
    {
     "name": "stderr",
     "output_type": "stream",
     "text": [
      "Epoch 5/60 - Training: 100%|██████████| 1256/1256 [07:16<00:00,  2.88batch/s, loss=0.529]\n",
      "Epoch 5/60 - Validation: 100%|██████████| 314/314 [00:17<00:00, 17.64batch/s, loss=0.539]\n"
     ]
    },
    {
     "name": "stdout",
     "output_type": "stream",
     "text": [
      "Average loss => Training: 0.52 | Validation: 0.54\n",
      "Model Saved\n",
      "\n",
      "\n"
     ]
    },
    {
     "name": "stderr",
     "output_type": "stream",
     "text": [
      "Epoch 6/60 - Training: 100%|██████████| 1256/1256 [07:21<00:00,  2.85batch/s, loss=0.664]\n",
      "Epoch 6/60 - Validation: 100%|██████████| 314/314 [00:17<00:00, 17.62batch/s, loss=0.52] \n"
     ]
    },
    {
     "name": "stdout",
     "output_type": "stream",
     "text": [
      "Average loss => Training: 0.50 | Validation: 0.52\n",
      "Model Saved\n",
      "\n",
      "\n"
     ]
    },
    {
     "name": "stderr",
     "output_type": "stream",
     "text": [
      "Epoch 7/60 - Training: 100%|██████████| 1256/1256 [07:17<00:00,  2.87batch/s, loss=0.524]\n",
      "Epoch 7/60 - Validation: 100%|██████████| 314/314 [00:17<00:00, 17.68batch/s, loss=0.512]\n"
     ]
    },
    {
     "name": "stdout",
     "output_type": "stream",
     "text": [
      "Average loss => Training: 0.48 | Validation: 0.51\n",
      "Model Saved\n",
      "\n",
      "\n"
     ]
    },
    {
     "name": "stderr",
     "output_type": "stream",
     "text": [
      "Epoch 8/60 - Training: 100%|██████████| 1256/1256 [07:21<00:00,  2.85batch/s, loss=0.51] \n",
      "Epoch 8/60 - Validation: 100%|██████████| 314/314 [00:17<00:00, 17.67batch/s, loss=0.503]\n"
     ]
    },
    {
     "name": "stdout",
     "output_type": "stream",
     "text": [
      "Average loss => Training: 0.46 | Validation: 0.50\n",
      "Model Saved\n",
      "\n",
      "\n"
     ]
    },
    {
     "name": "stderr",
     "output_type": "stream",
     "text": [
      "Epoch 9/60 - Training: 100%|██████████| 1256/1256 [07:21<00:00,  2.84batch/s, loss=0.409]\n",
      "Epoch 9/60 - Validation: 100%|██████████| 314/314 [00:17<00:00, 17.61batch/s, loss=0.498]\n"
     ]
    },
    {
     "name": "stdout",
     "output_type": "stream",
     "text": [
      "Average loss => Training: 0.45 | Validation: 0.50\n",
      "Model Saved\n",
      "\n",
      "\n"
     ]
    },
    {
     "name": "stderr",
     "output_type": "stream",
     "text": [
      "Epoch 10/60 - Training: 100%|██████████| 1256/1256 [07:23<00:00,  2.83batch/s, loss=0.371]\n",
      "Epoch 10/60 - Validation: 100%|██████████| 314/314 [00:17<00:00, 17.60batch/s, loss=0.49] \n"
     ]
    },
    {
     "name": "stdout",
     "output_type": "stream",
     "text": [
      "Average loss => Training: 0.43 | Validation: 0.49\n",
      "Model Saved\n",
      "\n",
      "\n"
     ]
    },
    {
     "name": "stderr",
     "output_type": "stream",
     "text": [
      "Epoch 11/60 - Training: 100%|██████████| 1256/1256 [07:19<00:00,  2.86batch/s, loss=0.534]\n",
      "Epoch 11/60 - Validation: 100%|██████████| 314/314 [00:17<00:00, 17.63batch/s, loss=0.485]\n"
     ]
    },
    {
     "name": "stdout",
     "output_type": "stream",
     "text": [
      "Average loss => Training: 0.42 | Validation: 0.49\n",
      "Model Saved\n",
      "\n",
      "\n"
     ]
    },
    {
     "name": "stderr",
     "output_type": "stream",
     "text": [
      "Epoch 12/60 - Training: 100%|██████████| 1256/1256 [07:16<00:00,  2.88batch/s, loss=0.456]\n",
      "Epoch 12/60 - Validation: 100%|██████████| 314/314 [00:17<00:00, 18.35batch/s, loss=0.487]\n"
     ]
    },
    {
     "name": "stdout",
     "output_type": "stream",
     "text": [
      "Average loss => Training: 0.41 | Validation: 0.49\n",
      "Model Saved\n",
      "\n",
      "\n"
     ]
    },
    {
     "name": "stderr",
     "output_type": "stream",
     "text": [
      "Epoch 13/60 - Training: 100%|██████████| 1256/1256 [07:15<00:00,  2.89batch/s, loss=0.351]\n",
      "Epoch 13/60 - Validation: 100%|██████████| 314/314 [00:17<00:00, 18.25batch/s, loss=0.479]\n"
     ]
    },
    {
     "name": "stdout",
     "output_type": "stream",
     "text": [
      "Average loss => Training: 0.40 | Validation: 0.48\n",
      "Model Saved\n",
      "\n",
      "\n"
     ]
    },
    {
     "name": "stderr",
     "output_type": "stream",
     "text": [
      "Epoch 14/60 - Training: 100%|██████████| 1256/1256 [07:11<00:00,  2.91batch/s, loss=0.35] \n",
      "Epoch 14/60 - Validation: 100%|██████████| 314/314 [00:17<00:00, 18.32batch/s, loss=0.477]\n"
     ]
    },
    {
     "name": "stdout",
     "output_type": "stream",
     "text": [
      "Average loss => Training: 0.39 | Validation: 0.48\n",
      "Model Saved\n",
      "\n",
      "\n"
     ]
    },
    {
     "name": "stderr",
     "output_type": "stream",
     "text": [
      "Epoch 15/60 - Training: 100%|██████████| 1256/1256 [07:06<00:00,  2.95batch/s, loss=0.38] \n",
      "Epoch 15/60 - Validation: 100%|██████████| 314/314 [00:17<00:00, 18.30batch/s, loss=0.475]\n"
     ]
    },
    {
     "name": "stdout",
     "output_type": "stream",
     "text": [
      "Average loss => Training: 0.38 | Validation: 0.48\n",
      "Model Saved\n",
      "\n",
      "\n"
     ]
    },
    {
     "name": "stderr",
     "output_type": "stream",
     "text": [
      "Epoch 16/60 - Training: 100%|██████████| 1256/1256 [07:12<00:00,  2.91batch/s, loss=0.352]\n",
      "Epoch 16/60 - Validation: 100%|██████████| 314/314 [00:17<00:00, 18.27batch/s, loss=0.473]\n"
     ]
    },
    {
     "name": "stdout",
     "output_type": "stream",
     "text": [
      "Average loss => Training: 0.37 | Validation: 0.47\n",
      "Model Saved\n",
      "\n",
      "\n"
     ]
    },
    {
     "name": "stderr",
     "output_type": "stream",
     "text": [
      "Epoch 17/60 - Training: 100%|██████████| 1256/1256 [07:11<00:00,  2.91batch/s, loss=0.358]\n",
      "Epoch 17/60 - Validation: 100%|██████████| 314/314 [00:17<00:00, 18.24batch/s, loss=0.471]\n"
     ]
    },
    {
     "name": "stdout",
     "output_type": "stream",
     "text": [
      "Average loss => Training: 0.36 | Validation: 0.47\n",
      "Model Saved\n",
      "\n",
      "\n"
     ]
    },
    {
     "name": "stderr",
     "output_type": "stream",
     "text": [
      "Epoch 18/60 - Training: 100%|██████████| 1256/1256 [07:12<00:00,  2.90batch/s, loss=0.334]\n",
      "Epoch 18/60 - Validation: 100%|██████████| 314/314 [00:17<00:00, 18.41batch/s, loss=0.471]\n"
     ]
    },
    {
     "name": "stdout",
     "output_type": "stream",
     "text": [
      "Average loss => Training: 0.36 | Validation: 0.47\n",
      "Model Saved\n",
      "\n",
      "\n"
     ]
    },
    {
     "name": "stderr",
     "output_type": "stream",
     "text": [
      "Epoch 19/60 - Training: 100%|██████████| 1256/1256 [07:11<00:00,  2.91batch/s, loss=0.35] \n",
      "Epoch 19/60 - Validation: 100%|██████████| 314/314 [00:17<00:00, 18.34batch/s, loss=0.473]\n"
     ]
    },
    {
     "name": "stdout",
     "output_type": "stream",
     "text": [
      "Average loss => Training: 0.35 | Validation: 0.47\n",
      "Model Saved\n",
      "\n",
      "\n"
     ]
    },
    {
     "name": "stderr",
     "output_type": "stream",
     "text": [
      "Epoch 20/60 - Training: 100%|██████████| 1256/1256 [07:09<00:00,  2.92batch/s, loss=0.394]\n",
      "Epoch 20/60 - Validation: 100%|██████████| 314/314 [00:17<00:00, 18.26batch/s, loss=0.469]\n"
     ]
    },
    {
     "name": "stdout",
     "output_type": "stream",
     "text": [
      "Average loss => Training: 0.34 | Validation: 0.47\n",
      "Model Saved\n",
      "\n",
      "\n"
     ]
    },
    {
     "name": "stderr",
     "output_type": "stream",
     "text": [
      "Epoch 21/60 - Training: 100%|██████████| 1256/1256 [07:09<00:00,  2.93batch/s, loss=0.329]\n",
      "Epoch 21/60 - Validation: 100%|██████████| 314/314 [00:17<00:00, 18.30batch/s, loss=0.47] \n"
     ]
    },
    {
     "name": "stdout",
     "output_type": "stream",
     "text": [
      "Average loss => Training: 0.33 | Validation: 0.47\n",
      "Model Saved\n",
      "\n",
      "\n"
     ]
    },
    {
     "name": "stderr",
     "output_type": "stream",
     "text": [
      "Epoch 22/60 - Training: 100%|██████████| 1256/1256 [07:13<00:00,  2.90batch/s, loss=0.291]\n",
      "Epoch 22/60 - Validation: 100%|██████████| 314/314 [00:17<00:00, 18.21batch/s, loss=0.469]\n"
     ]
    },
    {
     "name": "stdout",
     "output_type": "stream",
     "text": [
      "Average loss => Training: 0.33 | Validation: 0.47\n",
      "Model Saved\n",
      "\n",
      "\n"
     ]
    },
    {
     "name": "stderr",
     "output_type": "stream",
     "text": [
      "Epoch 23/60 - Training: 100%|██████████| 1256/1256 [07:14<00:00,  2.89batch/s, loss=0.454]\n",
      "Epoch 23/60 - Validation: 100%|██████████| 314/314 [00:17<00:00, 18.35batch/s, loss=0.471]\n"
     ]
    },
    {
     "name": "stdout",
     "output_type": "stream",
     "text": [
      "Average loss => Training: 0.32 | Validation: 0.47\n",
      "Model Saved\n",
      "\n",
      "\n"
     ]
    },
    {
     "name": "stderr",
     "output_type": "stream",
     "text": [
      "Epoch 24/60 - Training: 100%|██████████| 1256/1256 [07:11<00:00,  2.91batch/s, loss=0.379]\n",
      "Epoch 24/60 - Validation: 100%|██████████| 314/314 [00:17<00:00, 18.23batch/s, loss=0.471]\n"
     ]
    },
    {
     "name": "stdout",
     "output_type": "stream",
     "text": [
      "Average loss => Training: 0.31 | Validation: 0.47\n",
      "Model Saved\n",
      "\n",
      "\n"
     ]
    },
    {
     "name": "stderr",
     "output_type": "stream",
     "text": [
      "Epoch 25/60 - Training: 100%|██████████| 1256/1256 [07:12<00:00,  2.90batch/s, loss=0.327]\n",
      "Epoch 25/60 - Validation: 100%|██████████| 314/314 [00:17<00:00, 18.39batch/s, loss=0.472]\n"
     ]
    },
    {
     "name": "stdout",
     "output_type": "stream",
     "text": [
      "Average loss => Training: 0.31 | Validation: 0.47\n",
      "Model Saved\n",
      "\n",
      "\n"
     ]
    },
    {
     "name": "stderr",
     "output_type": "stream",
     "text": [
      "Epoch 26/60 - Training: 100%|██████████| 1256/1256 [07:13<00:00,  2.90batch/s, loss=0.232]\n",
      "Epoch 26/60 - Validation: 100%|██████████| 314/314 [00:17<00:00, 18.24batch/s, loss=0.472]\n"
     ]
    },
    {
     "name": "stdout",
     "output_type": "stream",
     "text": [
      "Average loss => Training: 0.30 | Validation: 0.47\n",
      "Model Saved\n",
      "\n",
      "\n"
     ]
    },
    {
     "name": "stderr",
     "output_type": "stream",
     "text": [
      "Epoch 27/60 - Training: 100%|██████████| 1256/1256 [07:14<00:00,  2.89batch/s, loss=0.356]\n",
      "Epoch 27/60 - Validation: 100%|██████████| 314/314 [00:17<00:00, 18.20batch/s, loss=0.473]\n"
     ]
    },
    {
     "name": "stdout",
     "output_type": "stream",
     "text": [
      "Average loss => Training: 0.29 | Validation: 0.47\n",
      "Model Saved\n",
      "\n",
      "\n"
     ]
    },
    {
     "name": "stderr",
     "output_type": "stream",
     "text": [
      "Epoch 28/60 - Training: 100%|██████████| 1256/1256 [07:10<00:00,  2.92batch/s, loss=0.35] \n",
      "Epoch 28/60 - Validation: 100%|██████████| 314/314 [00:17<00:00, 18.36batch/s, loss=0.476]\n"
     ]
    },
    {
     "name": "stdout",
     "output_type": "stream",
     "text": [
      "Average loss => Training: 0.28 | Validation: 0.48\n",
      "Model Saved\n",
      "\n",
      "\n"
     ]
    },
    {
     "name": "stderr",
     "output_type": "stream",
     "text": [
      "Epoch 29/60 - Training: 100%|██████████| 1256/1256 [07:12<00:00,  2.90batch/s, loss=0.27] \n",
      "Epoch 29/60 - Validation: 100%|██████████| 314/314 [00:17<00:00, 18.22batch/s, loss=0.476]\n"
     ]
    },
    {
     "name": "stdout",
     "output_type": "stream",
     "text": [
      "Average loss => Training: 0.28 | Validation: 0.48\n",
      "Model Saved\n",
      "\n",
      "\n"
     ]
    },
    {
     "name": "stderr",
     "output_type": "stream",
     "text": [
      "Epoch 30/60 - Training: 100%|██████████| 1256/1256 [07:09<00:00,  2.92batch/s, loss=0.264]\n",
      "Epoch 30/60 - Validation: 100%|██████████| 314/314 [00:17<00:00, 18.28batch/s, loss=0.479]\n"
     ]
    },
    {
     "name": "stdout",
     "output_type": "stream",
     "text": [
      "Average loss => Training: 0.27 | Validation: 0.48\n",
      "Model Saved\n",
      "\n",
      "\n"
     ]
    },
    {
     "name": "stderr",
     "output_type": "stream",
     "text": [
      "Epoch 31/60 - Training: 100%|██████████| 1256/1256 [07:10<00:00,  2.92batch/s, loss=0.394]\n",
      "Epoch 31/60 - Validation: 100%|██████████| 314/314 [00:17<00:00, 18.39batch/s, loss=0.483]\n"
     ]
    },
    {
     "name": "stdout",
     "output_type": "stream",
     "text": [
      "Average loss => Training: 0.26 | Validation: 0.48\n",
      "Model Saved\n",
      "\n",
      "\n"
     ]
    },
    {
     "name": "stderr",
     "output_type": "stream",
     "text": [
      "Epoch 32/60 - Training: 100%|██████████| 1256/1256 [07:10<00:00,  2.92batch/s, loss=0.231]\n",
      "Epoch 32/60 - Validation: 100%|██████████| 314/314 [00:17<00:00, 18.42batch/s, loss=0.484]\n"
     ]
    },
    {
     "name": "stdout",
     "output_type": "stream",
     "text": [
      "Average loss => Training: 0.25 | Validation: 0.48\n",
      "Model Saved\n",
      "\n",
      "\n"
     ]
    },
    {
     "name": "stderr",
     "output_type": "stream",
     "text": [
      "Epoch 33/60 - Training: 100%|██████████| 1256/1256 [07:05<00:00,  2.95batch/s, loss=0.338]\n",
      "Epoch 33/60 - Validation: 100%|██████████| 314/314 [00:17<00:00, 18.44batch/s, loss=0.485]\n"
     ]
    },
    {
     "name": "stdout",
     "output_type": "stream",
     "text": [
      "Average loss => Training: 0.24 | Validation: 0.48\n",
      "Model Saved\n",
      "\n",
      "\n"
     ]
    },
    {
     "name": "stderr",
     "output_type": "stream",
     "text": [
      "Epoch 34/60 - Training: 100%|██████████| 1256/1256 [07:03<00:00,  2.97batch/s, loss=0.267]\n",
      "Epoch 34/60 - Validation: 100%|██████████| 314/314 [00:17<00:00, 18.41batch/s, loss=0.489]\n"
     ]
    },
    {
     "name": "stdout",
     "output_type": "stream",
     "text": [
      "Average loss => Training: 0.23 | Validation: 0.49\n",
      "Model Saved\n",
      "\n",
      "\n"
     ]
    },
    {
     "name": "stderr",
     "output_type": "stream",
     "text": [
      "Epoch 35/60 - Training: 100%|██████████| 1256/1256 [07:07<00:00,  2.94batch/s, loss=0.202]\n",
      "Epoch 35/60 - Validation: 100%|██████████| 314/314 [00:17<00:00, 18.30batch/s, loss=0.489]\n"
     ]
    },
    {
     "name": "stdout",
     "output_type": "stream",
     "text": [
      "Average loss => Training: 0.23 | Validation: 0.49\n",
      "Model Saved\n",
      "\n",
      "\n"
     ]
    },
    {
     "name": "stderr",
     "output_type": "stream",
     "text": [
      "Epoch 36/60 - Training: 100%|██████████| 1256/1256 [07:06<00:00,  2.95batch/s, loss=0.248]\n",
      "Epoch 36/60 - Validation: 100%|██████████| 314/314 [00:17<00:00, 18.30batch/s, loss=0.493]\n"
     ]
    },
    {
     "name": "stdout",
     "output_type": "stream",
     "text": [
      "Average loss => Training: 0.22 | Validation: 0.49\n",
      "Model Saved\n",
      "\n",
      "\n"
     ]
    },
    {
     "name": "stderr",
     "output_type": "stream",
     "text": [
      "Epoch 37/60 - Training: 100%|██████████| 1256/1256 [07:05<00:00,  2.95batch/s, loss=0.24] \n",
      "Epoch 37/60 - Validation: 100%|██████████| 314/314 [00:17<00:00, 18.38batch/s, loss=0.494]\n"
     ]
    },
    {
     "name": "stdout",
     "output_type": "stream",
     "text": [
      "Average loss => Training: 0.21 | Validation: 0.49\n",
      "Model Saved\n",
      "\n",
      "\n"
     ]
    },
    {
     "name": "stderr",
     "output_type": "stream",
     "text": [
      "Epoch 38/60 - Training: 100%|██████████| 1256/1256 [07:07<00:00,  2.94batch/s, loss=0.251]\n",
      "Epoch 38/60 - Validation: 100%|██████████| 314/314 [00:17<00:00, 18.47batch/s, loss=0.495]\n"
     ]
    },
    {
     "name": "stdout",
     "output_type": "stream",
     "text": [
      "Average loss => Training: 0.20 | Validation: 0.50\n",
      "Model Saved\n",
      "\n",
      "\n"
     ]
    },
    {
     "name": "stderr",
     "output_type": "stream",
     "text": [
      "Epoch 39/60 - Training: 100%|██████████| 1256/1256 [07:06<00:00,  2.94batch/s, loss=0.254]\n",
      "Epoch 39/60 - Validation: 100%|██████████| 314/314 [00:17<00:00, 18.30batch/s, loss=0.503]\n"
     ]
    },
    {
     "name": "stdout",
     "output_type": "stream",
     "text": [
      "Average loss => Training: 0.19 | Validation: 0.50\n",
      "Model Saved\n",
      "\n",
      "\n"
     ]
    },
    {
     "name": "stderr",
     "output_type": "stream",
     "text": [
      "Epoch 40/60 - Training: 100%|██████████| 1256/1256 [07:07<00:00,  2.94batch/s, loss=0.181]\n",
      "Epoch 40/60 - Validation: 100%|██████████| 314/314 [00:17<00:00, 18.29batch/s, loss=0.51] \n"
     ]
    },
    {
     "name": "stdout",
     "output_type": "stream",
     "text": [
      "Average loss => Training: 0.18 | Validation: 0.51\n",
      "Model Saved\n",
      "\n",
      "\n"
     ]
    },
    {
     "name": "stderr",
     "output_type": "stream",
     "text": [
      "Epoch 41/60 - Training: 100%|██████████| 1256/1256 [07:09<00:00,  2.92batch/s, loss=0.192]\n",
      "Epoch 41/60 - Validation: 100%|██████████| 314/314 [00:17<00:00, 18.36batch/s, loss=0.509]\n"
     ]
    },
    {
     "name": "stdout",
     "output_type": "stream",
     "text": [
      "Average loss => Training: 0.18 | Validation: 0.51\n",
      "Model Saved\n",
      "\n",
      "\n"
     ]
    },
    {
     "name": "stderr",
     "output_type": "stream",
     "text": [
      "Epoch 42/60 - Training: 100%|██████████| 1256/1256 [07:07<00:00,  2.94batch/s, loss=0.131]\n",
      "Epoch 42/60 - Validation: 100%|██████████| 314/314 [00:17<00:00, 18.33batch/s, loss=0.512]\n"
     ]
    },
    {
     "name": "stdout",
     "output_type": "stream",
     "text": [
      "Average loss => Training: 0.17 | Validation: 0.51\n",
      "Model Saved\n",
      "\n",
      "\n"
     ]
    },
    {
     "name": "stderr",
     "output_type": "stream",
     "text": [
      "Epoch 43/60 - Training: 100%|██████████| 1256/1256 [07:06<00:00,  2.95batch/s, loss=0.134]\n",
      "Epoch 43/60 - Validation: 100%|██████████| 314/314 [00:17<00:00, 18.31batch/s, loss=0.517]\n"
     ]
    },
    {
     "name": "stdout",
     "output_type": "stream",
     "text": [
      "Average loss => Training: 0.16 | Validation: 0.52\n",
      "Model Saved\n",
      "\n",
      "\n"
     ]
    },
    {
     "name": "stderr",
     "output_type": "stream",
     "text": [
      "Epoch 44/60 - Training: 100%|██████████| 1256/1256 [07:05<00:00,  2.95batch/s, loss=0.167]\n",
      "Epoch 44/60 - Validation: 100%|██████████| 314/314 [00:17<00:00, 18.32batch/s, loss=0.522]\n"
     ]
    },
    {
     "name": "stdout",
     "output_type": "stream",
     "text": [
      "Average loss => Training: 0.15 | Validation: 0.52\n",
      "Model Saved\n",
      "\n",
      "\n"
     ]
    },
    {
     "name": "stderr",
     "output_type": "stream",
     "text": [
      "Epoch 45/60 - Training: 100%|██████████| 1256/1256 [07:08<00:00,  2.93batch/s, loss=0.158] \n",
      "Epoch 45/60 - Validation: 100%|██████████| 314/314 [00:17<00:00, 18.28batch/s, loss=0.53] \n"
     ]
    },
    {
     "name": "stdout",
     "output_type": "stream",
     "text": [
      "Average loss => Training: 0.14 | Validation: 0.53\n",
      "Model Saved\n",
      "\n",
      "\n"
     ]
    },
    {
     "name": "stderr",
     "output_type": "stream",
     "text": [
      "Epoch 46/60 - Training: 100%|██████████| 1256/1256 [07:15<00:00,  2.89batch/s, loss=0.147] \n",
      "Epoch 46/60 - Validation: 100%|██████████| 314/314 [00:17<00:00, 17.79batch/s, loss=0.535]\n"
     ]
    },
    {
     "name": "stdout",
     "output_type": "stream",
     "text": [
      "Average loss => Training: 0.13 | Validation: 0.53\n",
      "Model Saved\n",
      "\n",
      "\n"
     ]
    },
    {
     "name": "stderr",
     "output_type": "stream",
     "text": [
      "Epoch 47/60 - Training: 100%|██████████| 1256/1256 [07:17<00:00,  2.87batch/s, loss=0.142] \n",
      "Epoch 47/60 - Validation: 100%|██████████| 314/314 [00:17<00:00, 17.61batch/s, loss=0.539]\n"
     ]
    },
    {
     "name": "stdout",
     "output_type": "stream",
     "text": [
      "Average loss => Training: 0.12 | Validation: 0.54\n",
      "Model Saved\n",
      "\n",
      "\n"
     ]
    },
    {
     "name": "stderr",
     "output_type": "stream",
     "text": [
      "Epoch 48/60 - Training: 100%|██████████| 1256/1256 [07:18<00:00,  2.86batch/s, loss=0.0869]\n",
      "Epoch 48/60 - Validation: 100%|██████████| 314/314 [00:17<00:00, 17.66batch/s, loss=0.543]\n"
     ]
    },
    {
     "name": "stdout",
     "output_type": "stream",
     "text": [
      "Average loss => Training: 0.11 | Validation: 0.54\n",
      "Model Saved\n",
      "\n",
      "\n"
     ]
    },
    {
     "name": "stderr",
     "output_type": "stream",
     "text": [
      "Epoch 49/60 - Training: 100%|██████████| 1256/1256 [07:19<00:00,  2.86batch/s, loss=0.118] \n",
      "Epoch 49/60 - Validation: 100%|██████████| 314/314 [00:17<00:00, 17.69batch/s, loss=0.547]\n"
     ]
    },
    {
     "name": "stdout",
     "output_type": "stream",
     "text": [
      "Average loss => Training: 0.10 | Validation: 0.55\n",
      "Model Saved\n",
      "\n",
      "\n"
     ]
    },
    {
     "name": "stderr",
     "output_type": "stream",
     "text": [
      "Epoch 50/60 - Training: 100%|██████████| 1256/1256 [07:15<00:00,  2.88batch/s, loss=0.12]  \n",
      "Epoch 50/60 - Validation: 100%|██████████| 314/314 [00:17<00:00, 17.84batch/s, loss=0.553]\n"
     ]
    },
    {
     "name": "stdout",
     "output_type": "stream",
     "text": [
      "Average loss => Training: 0.09 | Validation: 0.55\n",
      "Model Saved\n",
      "\n",
      "\n"
     ]
    },
    {
     "name": "stderr",
     "output_type": "stream",
     "text": [
      "Epoch 51/60 - Training: 100%|██████████| 1256/1256 [07:17<00:00,  2.87batch/s, loss=0.0861]\n",
      "Epoch 51/60 - Validation: 100%|██████████| 314/314 [00:17<00:00, 17.69batch/s, loss=0.554]\n"
     ]
    },
    {
     "name": "stdout",
     "output_type": "stream",
     "text": [
      "Average loss => Training: 0.08 | Validation: 0.55\n",
      "Model Saved\n",
      "\n",
      "\n"
     ]
    },
    {
     "name": "stderr",
     "output_type": "stream",
     "text": [
      "Epoch 52/60 - Training: 100%|██████████| 1256/1256 [07:17<00:00,  2.87batch/s, loss=0.0655]\n",
      "Epoch 52/60 - Validation: 100%|██████████| 314/314 [00:17<00:00, 17.64batch/s, loss=0.559]\n"
     ]
    },
    {
     "name": "stdout",
     "output_type": "stream",
     "text": [
      "Average loss => Training: 0.07 | Validation: 0.56\n",
      "Model Saved\n",
      "\n",
      "\n"
     ]
    },
    {
     "name": "stderr",
     "output_type": "stream",
     "text": [
      "Epoch 53/60 - Training: 100%|██████████| 1256/1256 [07:17<00:00,  2.87batch/s, loss=0.0581]\n",
      "Epoch 53/60 - Validation: 100%|██████████| 314/314 [00:17<00:00, 17.62batch/s, loss=0.565]\n"
     ]
    },
    {
     "name": "stdout",
     "output_type": "stream",
     "text": [
      "Average loss => Training: 0.07 | Validation: 0.56\n",
      "Model Saved\n",
      "\n",
      "\n"
     ]
    },
    {
     "name": "stderr",
     "output_type": "stream",
     "text": [
      "Epoch 54/60 - Training: 100%|██████████| 1256/1256 [07:14<00:00,  2.89batch/s, loss=0.0577]\n",
      "Epoch 54/60 - Validation: 100%|██████████| 314/314 [00:17<00:00, 18.37batch/s, loss=0.564]\n"
     ]
    },
    {
     "name": "stdout",
     "output_type": "stream",
     "text": [
      "Average loss => Training: 0.06 | Validation: 0.56\n",
      "Model Saved\n",
      "\n",
      "\n"
     ]
    },
    {
     "name": "stderr",
     "output_type": "stream",
     "text": [
      "Epoch 55/60 - Training: 100%|██████████| 1256/1256 [07:16<00:00,  2.88batch/s, loss=0.0423]\n",
      "Epoch 55/60 - Validation: 100%|██████████| 314/314 [00:17<00:00, 18.23batch/s, loss=0.567]\n"
     ]
    },
    {
     "name": "stdout",
     "output_type": "stream",
     "text": [
      "Average loss => Training: 0.05 | Validation: 0.57\n",
      "Model Saved\n",
      "\n",
      "\n"
     ]
    },
    {
     "name": "stderr",
     "output_type": "stream",
     "text": [
      "Epoch 56/60 - Training: 100%|██████████| 1256/1256 [07:10<00:00,  2.92batch/s, loss=0.0439]\n",
      "Epoch 56/60 - Validation: 100%|██████████| 314/314 [00:17<00:00, 18.31batch/s, loss=0.568]\n"
     ]
    },
    {
     "name": "stdout",
     "output_type": "stream",
     "text": [
      "Average loss => Training: 0.04 | Validation: 0.57\n",
      "Model Saved\n",
      "\n",
      "\n"
     ]
    },
    {
     "name": "stderr",
     "output_type": "stream",
     "text": [
      "Epoch 57/60 - Training: 100%|██████████| 1256/1256 [07:12<00:00,  2.90batch/s, loss=0.0329]\n",
      "Epoch 57/60 - Validation: 100%|██████████| 314/314 [00:17<00:00, 18.36batch/s, loss=0.571]\n"
     ]
    },
    {
     "name": "stdout",
     "output_type": "stream",
     "text": [
      "Average loss => Training: 0.04 | Validation: 0.57\n",
      "Model Saved\n",
      "\n",
      "\n"
     ]
    },
    {
     "name": "stderr",
     "output_type": "stream",
     "text": [
      "Epoch 58/60 - Training: 100%|██████████| 1256/1256 [07:28<00:00,  2.80batch/s, loss=0.0339]\n",
      "Epoch 58/60 - Validation: 100%|██████████| 314/314 [00:17<00:00, 18.25batch/s, loss=0.57] \n"
     ]
    },
    {
     "name": "stdout",
     "output_type": "stream",
     "text": [
      "Average loss => Training: 0.03 | Validation: 0.57\n",
      "Model Saved\n",
      "\n",
      "\n"
     ]
    },
    {
     "name": "stderr",
     "output_type": "stream",
     "text": [
      "Epoch 59/60 - Training: 100%|██████████| 1256/1256 [07:27<00:00,  2.81batch/s, loss=0.0305]\n",
      "Epoch 59/60 - Validation: 100%|██████████| 314/314 [00:17<00:00, 18.41batch/s, loss=0.57] \n"
     ]
    },
    {
     "name": "stdout",
     "output_type": "stream",
     "text": [
      "Average loss => Training: 0.03 | Validation: 0.57\n",
      "Model Saved\n",
      "\n",
      "\n"
     ]
    },
    {
     "name": "stderr",
     "output_type": "stream",
     "text": [
      "Epoch 60/60 - Training: 100%|██████████| 1256/1256 [07:30<00:00,  2.79batch/s, loss=0.027] \n",
      "Epoch 60/60 - Validation: 100%|██████████| 314/314 [00:17<00:00, 18.28batch/s, loss=0.571]\n"
     ]
    },
    {
     "name": "stdout",
     "output_type": "stream",
     "text": [
      "Average loss => Training: 0.03 | Validation: 0.57\n",
      "Model Saved\n",
      "\n",
      "\n",
      "\n",
      "Training complete!\n",
      "Total training took 7:56:37 (h:mm:ss)\n"
     ]
    }
   ],
   "source": [
    "# Variables to track best model\n",
    "best_training_loss = float('inf')\n",
    "best_model_path = None\n",
    "\n",
    "# Use tqdm to display progress over epochs\n",
    "for epoch_i in range(0, args.epochs):\n",
    "\n",
    "    # ========================================\n",
    "    #               Training\n",
    "    # ========================================\n",
    "    # Record the start time of the epoch.\n",
    "    t0 = time.time()\n",
    "\n",
    "    # Reset the total loss for this epoch.\n",
    "    total_train_loss = 0\n",
    "\n",
    "    # Put the model into training mode.\n",
    "    model.train()\n",
    "    \n",
    "    train_iterator = tqdm(train_dataloader, \n",
    "                                      desc=f\"Epoch {epoch_i + 1}/{args.epochs} - Training\", \n",
    "                                      unit=\"batch\")\n",
    "\n",
    "\n",
    "    # Loop over each batch of training data.\n",
    "    for step, batch in enumerate(train_iterator): \n",
    "\n",
    "        # Clear the GPU memory cache to free up memory\n",
    "        torch.cuda.empty_cache()\n",
    "\n",
    "        # Get the input IDs, attention masks, and labels for this batch,\n",
    "        # and move them to the GPU if necessary.\n",
    "        b_input_ids = batch[0].to(device)\n",
    "        b_labels = batch[0].to(device)\n",
    "        b_masks = batch[1].to(device)\n",
    "\n",
    "        # Zero out any gradients that have accumulated from previous batches.\n",
    "        model.zero_grad()        \n",
    "\n",
    "        # Run this batch through the model to get the loss.\n",
    "        outputs = model(  b_input_ids,\n",
    "                          labels=b_labels, \n",
    "                          attention_mask = b_masks,\n",
    "                        #   token_type_ids=None\n",
    "                        )\n",
    "\n",
    "        loss = outputs[0] \n",
    "\n",
    "        # If using DataParallel, average the loss across all GPUs\n",
    "        if isinstance(model, torch.nn.DataParallel) and loss is not None:\n",
    "            loss = loss.mean()\n",
    "\n",
    "        # Get the loss for this batch, and add it to the total loss for this epoch.\n",
    "        if loss is not None:\n",
    "            batch_loss = loss.item()\n",
    "            total_train_loss += batch_loss\n",
    "\n",
    "        # Print some generated output every `sample_every` batches.\n",
    "        if step % args.sample_every == 0 and not step == 0:\n",
    "            \n",
    "            # Measure how long this has taken so far.\n",
    "            elapsed = format_time(time.time() - t0)\n",
    "\n",
    "            # Put the model into evaluation mode.\n",
    "            model.eval()\n",
    "\n",
    "            # Generate some sample output from the model.\n",
    "            sample_outputs = model.module.generate(\n",
    "                                    bos_token_id=random.randint(1,30000),\n",
    "                                    do_sample=True,   \n",
    "                                    top_k=50, \n",
    "                                    max_length = 512,\n",
    "                                    top_p=0.95, \n",
    "                                    num_return_sequences=1,\n",
    "                                    pad_token_id=tokenizer.eos_token_id,\n",
    "                                    eos_token_id=-1,\n",
    "                                )\n",
    "            # Put the model back into training mode.\n",
    "            model.train()\n",
    "        train_iterator.set_postfix(loss=batch_loss)\n",
    "\n",
    "        # Backpropagate the loss and update the model parameters.\n",
    "        if loss is not None:\n",
    "            loss.backward()\n",
    "            optimizer.step()\n",
    "\n",
    "            # Update the learning rate scheduler.\n",
    "            scheduler.step()\n",
    "\n",
    "    # Calculate the average loss over all of the batches.\n",
    "    if total_train_loss > 0:\n",
    "        avg_train_loss = total_train_loss / len(train_dataloader)\n",
    "    else:\n",
    "        avg_train_loss = 0\n",
    "    \n",
    "    # Measure how long this epoch took.\n",
    "    training_time = format_time(time.time() - t0)\n",
    "     \n",
    "\n",
    "    # ========================================\n",
    "    #               Validation\n",
    "    # ========================================\n",
    "    t0 = time.time()\n",
    "\n",
    "    model.eval()\n",
    "\n",
    "    total_eval_loss = 0\n",
    "    nb_eval_steps = 0\n",
    "\n",
    "    val_iterator = tqdm(validation_dataloader, \n",
    "                        desc=f\"Epoch {epoch_i + 1}/{args.epochs} - Validation\", \n",
    "                        unit=\"batch\")\n",
    "\n",
    "    # Evaluate data for one epoch\n",
    "    for val_step, batch in enumerate(val_iterator):\n",
    "        \n",
    "        b_input_ids = batch[0].to(device)\n",
    "        b_labels = batch[0].to(device)\n",
    "        b_masks = batch[1].to(device)\n",
    "        \n",
    "        with torch.no_grad():        \n",
    "            # Run this batch through the model to get the loss.\n",
    "            outputs  = model(b_input_ids, \n",
    "#                            token_type_ids=None, \n",
    "                             attention_mask = b_masks,\n",
    "                            labels=b_labels)\n",
    "            \n",
    "            loss = outputs[0] \n",
    "          \n",
    "        # If using DataParallel, average the loss across all GPUs\n",
    "        if isinstance(model, torch.nn.DataParallel) and loss is not None:\n",
    "            loss = loss.mean()\n",
    "\n",
    "        # Get the loss for this batch, and add it to the total loss for this epoch.\n",
    "        if loss is not None:\n",
    "            total_eval_loss += loss.item()\n",
    "\n",
    "        val_iterator.set_postfix(loss=total_eval_loss / (val_step + 1))   \n",
    "\n",
    "    avg_val_loss = total_eval_loss / len(validation_dataloader) if len(validation_dataloader) > 0 else 0\n",
    "\n",
    "    \n",
    "    validation_time = format_time(time.time() - t0)   \n",
    "    \n",
    "    print(f\"Average loss => Training: {avg_train_loss:.2f} | Validation: {avg_val_loss:.2f}\") \n",
    "\n",
    "    # Record all statistics from this epoch.\n",
    "    training_stats.append(\n",
    "        {\n",
    "            'epoch': epoch_i + 1,\n",
    "            'Training Loss': avg_train_loss,\n",
    "            'Valid. Loss': avg_val_loss,\n",
    "            'Training Time': training_time,\n",
    "            'Validation Time': validation_time\n",
    "        }\n",
    "    )\n",
    "    # Update best model if training loss improves\n",
    "    if avg_train_loss < best_training_loss:\n",
    "        best_training_loss = avg_train_loss \n",
    "        # best_model_path = os.path.join(output_dir, model_name)\n",
    "        \n",
    "        # This line ensures that the correct model is saved even if the code is running in a distributed/parallel environment\n",
    "        model_to_save = model.module if hasattr(model, 'module') else model  # Take care of distributed/parallel training\n",
    "\n",
    "        model_to_save.save_pretrained(args.output_dir)\n",
    "        \n",
    "        torch.save(model.state_dict(), os.path.join(args.output_dir, args.model_name))\n",
    "        tokenizer.save_pretrained(args.output_dir)\n",
    "        print(\"Model Saved\")\n",
    "    print(\"\\n\")\n",
    "\n",
    "print(\"\")\n",
    "print(\"Training complete!\")\n",
    "print(\"Total training took {:} (h:mm:ss)\".format(format_time(time.time()-total_t0)))\n"
   ]
  },
  {
   "cell_type": "code",
   "execution_count": 14,
   "id": "72fedcd9",
   "metadata": {},
   "outputs": [
    {
     "data": {
      "text/html": [
       "<div>\n",
       "<style scoped>\n",
       "    .dataframe tbody tr th:only-of-type {\n",
       "        vertical-align: middle;\n",
       "    }\n",
       "\n",
       "    .dataframe tbody tr th {\n",
       "        vertical-align: top;\n",
       "    }\n",
       "\n",
       "    .dataframe thead th {\n",
       "        text-align: right;\n",
       "    }\n",
       "</style>\n",
       "<table border=\"1\" class=\"dataframe\">\n",
       "  <thead>\n",
       "    <tr style=\"text-align: right;\">\n",
       "      <th></th>\n",
       "      <th>Training Loss</th>\n",
       "      <th>Valid. Loss</th>\n",
       "      <th>Training Time</th>\n",
       "      <th>Validation Time</th>\n",
       "    </tr>\n",
       "    <tr>\n",
       "      <th>epoch</th>\n",
       "      <th></th>\n",
       "      <th></th>\n",
       "      <th></th>\n",
       "      <th></th>\n",
       "    </tr>\n",
       "  </thead>\n",
       "  <tbody>\n",
       "    <tr>\n",
       "      <th>1</th>\n",
       "      <td>2.274256</td>\n",
       "      <td>0.838848</td>\n",
       "      <td>0:07:24</td>\n",
       "      <td>0:00:18</td>\n",
       "    </tr>\n",
       "    <tr>\n",
       "      <th>2</th>\n",
       "      <td>0.764234</td>\n",
       "      <td>0.709540</td>\n",
       "      <td>0:07:18</td>\n",
       "      <td>0:00:18</td>\n",
       "    </tr>\n",
       "    <tr>\n",
       "      <th>3</th>\n",
       "      <td>0.656220</td>\n",
       "      <td>0.611671</td>\n",
       "      <td>0:07:17</td>\n",
       "      <td>0:00:18</td>\n",
       "    </tr>\n",
       "    <tr>\n",
       "      <th>4</th>\n",
       "      <td>0.571721</td>\n",
       "      <td>0.562991</td>\n",
       "      <td>0:07:19</td>\n",
       "      <td>0:00:18</td>\n",
       "    </tr>\n",
       "    <tr>\n",
       "      <th>5</th>\n",
       "      <td>0.524476</td>\n",
       "      <td>0.539038</td>\n",
       "      <td>0:07:16</td>\n",
       "      <td>0:00:18</td>\n",
       "    </tr>\n",
       "    <tr>\n",
       "      <th>6</th>\n",
       "      <td>0.496421</td>\n",
       "      <td>0.519949</td>\n",
       "      <td>0:07:21</td>\n",
       "      <td>0:00:18</td>\n",
       "    </tr>\n",
       "    <tr>\n",
       "      <th>7</th>\n",
       "      <td>0.476914</td>\n",
       "      <td>0.512433</td>\n",
       "      <td>0:07:17</td>\n",
       "      <td>0:00:18</td>\n",
       "    </tr>\n",
       "    <tr>\n",
       "      <th>8</th>\n",
       "      <td>0.461180</td>\n",
       "      <td>0.502741</td>\n",
       "      <td>0:07:21</td>\n",
       "      <td>0:00:18</td>\n",
       "    </tr>\n",
       "    <tr>\n",
       "      <th>9</th>\n",
       "      <td>0.446630</td>\n",
       "      <td>0.498060</td>\n",
       "      <td>0:07:22</td>\n",
       "      <td>0:00:18</td>\n",
       "    </tr>\n",
       "    <tr>\n",
       "      <th>10</th>\n",
       "      <td>0.433598</td>\n",
       "      <td>0.490242</td>\n",
       "      <td>0:07:24</td>\n",
       "      <td>0:00:18</td>\n",
       "    </tr>\n",
       "    <tr>\n",
       "      <th>11</th>\n",
       "      <td>0.421643</td>\n",
       "      <td>0.485064</td>\n",
       "      <td>0:07:19</td>\n",
       "      <td>0:00:18</td>\n",
       "    </tr>\n",
       "    <tr>\n",
       "      <th>12</th>\n",
       "      <td>0.410710</td>\n",
       "      <td>0.487406</td>\n",
       "      <td>0:07:16</td>\n",
       "      <td>0:00:17</td>\n",
       "    </tr>\n",
       "    <tr>\n",
       "      <th>13</th>\n",
       "      <td>0.400648</td>\n",
       "      <td>0.479208</td>\n",
       "      <td>0:07:15</td>\n",
       "      <td>0:00:17</td>\n",
       "    </tr>\n",
       "    <tr>\n",
       "      <th>14</th>\n",
       "      <td>0.390705</td>\n",
       "      <td>0.476584</td>\n",
       "      <td>0:07:11</td>\n",
       "      <td>0:00:17</td>\n",
       "    </tr>\n",
       "    <tr>\n",
       "      <th>15</th>\n",
       "      <td>0.381180</td>\n",
       "      <td>0.475319</td>\n",
       "      <td>0:07:06</td>\n",
       "      <td>0:00:17</td>\n",
       "    </tr>\n",
       "    <tr>\n",
       "      <th>16</th>\n",
       "      <td>0.373157</td>\n",
       "      <td>0.472978</td>\n",
       "      <td>0:07:12</td>\n",
       "      <td>0:00:17</td>\n",
       "    </tr>\n",
       "    <tr>\n",
       "      <th>17</th>\n",
       "      <td>0.364723</td>\n",
       "      <td>0.471006</td>\n",
       "      <td>0:07:12</td>\n",
       "      <td>0:00:17</td>\n",
       "    </tr>\n",
       "    <tr>\n",
       "      <th>18</th>\n",
       "      <td>0.356789</td>\n",
       "      <td>0.471150</td>\n",
       "      <td>0:07:13</td>\n",
       "      <td>0:00:17</td>\n",
       "    </tr>\n",
       "    <tr>\n",
       "      <th>19</th>\n",
       "      <td>0.349293</td>\n",
       "      <td>0.473225</td>\n",
       "      <td>0:07:12</td>\n",
       "      <td>0:00:17</td>\n",
       "    </tr>\n",
       "    <tr>\n",
       "      <th>20</th>\n",
       "      <td>0.340804</td>\n",
       "      <td>0.469020</td>\n",
       "      <td>0:07:09</td>\n",
       "      <td>0:00:17</td>\n",
       "    </tr>\n",
       "    <tr>\n",
       "      <th>21</th>\n",
       "      <td>0.334019</td>\n",
       "      <td>0.469636</td>\n",
       "      <td>0:07:09</td>\n",
       "      <td>0:00:17</td>\n",
       "    </tr>\n",
       "    <tr>\n",
       "      <th>22</th>\n",
       "      <td>0.328000</td>\n",
       "      <td>0.469127</td>\n",
       "      <td>0:07:13</td>\n",
       "      <td>0:00:17</td>\n",
       "    </tr>\n",
       "    <tr>\n",
       "      <th>23</th>\n",
       "      <td>0.319412</td>\n",
       "      <td>0.470877</td>\n",
       "      <td>0:07:15</td>\n",
       "      <td>0:00:17</td>\n",
       "    </tr>\n",
       "    <tr>\n",
       "      <th>24</th>\n",
       "      <td>0.312839</td>\n",
       "      <td>0.470866</td>\n",
       "      <td>0:07:12</td>\n",
       "      <td>0:00:17</td>\n",
       "    </tr>\n",
       "    <tr>\n",
       "      <th>25</th>\n",
       "      <td>0.305200</td>\n",
       "      <td>0.471806</td>\n",
       "      <td>0:07:13</td>\n",
       "      <td>0:00:17</td>\n",
       "    </tr>\n",
       "    <tr>\n",
       "      <th>26</th>\n",
       "      <td>0.297601</td>\n",
       "      <td>0.471523</td>\n",
       "      <td>0:07:13</td>\n",
       "      <td>0:00:17</td>\n",
       "    </tr>\n",
       "    <tr>\n",
       "      <th>27</th>\n",
       "      <td>0.290463</td>\n",
       "      <td>0.473328</td>\n",
       "      <td>0:07:14</td>\n",
       "      <td>0:00:17</td>\n",
       "    </tr>\n",
       "    <tr>\n",
       "      <th>28</th>\n",
       "      <td>0.282246</td>\n",
       "      <td>0.476080</td>\n",
       "      <td>0:07:10</td>\n",
       "      <td>0:00:17</td>\n",
       "    </tr>\n",
       "    <tr>\n",
       "      <th>29</th>\n",
       "      <td>0.275881</td>\n",
       "      <td>0.476203</td>\n",
       "      <td>0:07:13</td>\n",
       "      <td>0:00:17</td>\n",
       "    </tr>\n",
       "    <tr>\n",
       "      <th>30</th>\n",
       "      <td>0.267077</td>\n",
       "      <td>0.478918</td>\n",
       "      <td>0:07:10</td>\n",
       "      <td>0:00:17</td>\n",
       "    </tr>\n",
       "    <tr>\n",
       "      <th>31</th>\n",
       "      <td>0.258731</td>\n",
       "      <td>0.482624</td>\n",
       "      <td>0:07:10</td>\n",
       "      <td>0:00:17</td>\n",
       "    </tr>\n",
       "    <tr>\n",
       "      <th>32</th>\n",
       "      <td>0.252667</td>\n",
       "      <td>0.483876</td>\n",
       "      <td>0:07:11</td>\n",
       "      <td>0:00:17</td>\n",
       "    </tr>\n",
       "    <tr>\n",
       "      <th>33</th>\n",
       "      <td>0.243746</td>\n",
       "      <td>0.484551</td>\n",
       "      <td>0:07:06</td>\n",
       "      <td>0:00:17</td>\n",
       "    </tr>\n",
       "    <tr>\n",
       "      <th>34</th>\n",
       "      <td>0.234470</td>\n",
       "      <td>0.489170</td>\n",
       "      <td>0:07:03</td>\n",
       "      <td>0:00:17</td>\n",
       "    </tr>\n",
       "    <tr>\n",
       "      <th>35</th>\n",
       "      <td>0.227200</td>\n",
       "      <td>0.488605</td>\n",
       "      <td>0:07:08</td>\n",
       "      <td>0:00:17</td>\n",
       "    </tr>\n",
       "    <tr>\n",
       "      <th>36</th>\n",
       "      <td>0.218437</td>\n",
       "      <td>0.493346</td>\n",
       "      <td>0:07:06</td>\n",
       "      <td>0:00:17</td>\n",
       "    </tr>\n",
       "    <tr>\n",
       "      <th>37</th>\n",
       "      <td>0.210112</td>\n",
       "      <td>0.493700</td>\n",
       "      <td>0:07:06</td>\n",
       "      <td>0:00:17</td>\n",
       "    </tr>\n",
       "    <tr>\n",
       "      <th>38</th>\n",
       "      <td>0.201168</td>\n",
       "      <td>0.495275</td>\n",
       "      <td>0:07:08</td>\n",
       "      <td>0:00:17</td>\n",
       "    </tr>\n",
       "    <tr>\n",
       "      <th>39</th>\n",
       "      <td>0.191787</td>\n",
       "      <td>0.503235</td>\n",
       "      <td>0:07:07</td>\n",
       "      <td>0:00:17</td>\n",
       "    </tr>\n",
       "    <tr>\n",
       "      <th>40</th>\n",
       "      <td>0.183135</td>\n",
       "      <td>0.510324</td>\n",
       "      <td>0:07:08</td>\n",
       "      <td>0:00:17</td>\n",
       "    </tr>\n",
       "    <tr>\n",
       "      <th>41</th>\n",
       "      <td>0.175240</td>\n",
       "      <td>0.508773</td>\n",
       "      <td>0:07:10</td>\n",
       "      <td>0:00:17</td>\n",
       "    </tr>\n",
       "    <tr>\n",
       "      <th>42</th>\n",
       "      <td>0.165175</td>\n",
       "      <td>0.511775</td>\n",
       "      <td>0:07:08</td>\n",
       "      <td>0:00:17</td>\n",
       "    </tr>\n",
       "    <tr>\n",
       "      <th>43</th>\n",
       "      <td>0.156200</td>\n",
       "      <td>0.517158</td>\n",
       "      <td>0:07:06</td>\n",
       "      <td>0:00:17</td>\n",
       "    </tr>\n",
       "    <tr>\n",
       "      <th>44</th>\n",
       "      <td>0.146955</td>\n",
       "      <td>0.522242</td>\n",
       "      <td>0:07:06</td>\n",
       "      <td>0:00:17</td>\n",
       "    </tr>\n",
       "    <tr>\n",
       "      <th>45</th>\n",
       "      <td>0.137917</td>\n",
       "      <td>0.530473</td>\n",
       "      <td>0:07:09</td>\n",
       "      <td>0:00:17</td>\n",
       "    </tr>\n",
       "    <tr>\n",
       "      <th>46</th>\n",
       "      <td>0.128398</td>\n",
       "      <td>0.534829</td>\n",
       "      <td>0:07:15</td>\n",
       "      <td>0:00:18</td>\n",
       "    </tr>\n",
       "    <tr>\n",
       "      <th>47</th>\n",
       "      <td>0.119557</td>\n",
       "      <td>0.539202</td>\n",
       "      <td>0:07:17</td>\n",
       "      <td>0:00:18</td>\n",
       "    </tr>\n",
       "    <tr>\n",
       "      <th>48</th>\n",
       "      <td>0.110538</td>\n",
       "      <td>0.542635</td>\n",
       "      <td>0:07:18</td>\n",
       "      <td>0:00:18</td>\n",
       "    </tr>\n",
       "    <tr>\n",
       "      <th>49</th>\n",
       "      <td>0.101084</td>\n",
       "      <td>0.546817</td>\n",
       "      <td>0:07:20</td>\n",
       "      <td>0:00:18</td>\n",
       "    </tr>\n",
       "    <tr>\n",
       "      <th>50</th>\n",
       "      <td>0.091620</td>\n",
       "      <td>0.553240</td>\n",
       "      <td>0:07:16</td>\n",
       "      <td>0:00:18</td>\n",
       "    </tr>\n",
       "    <tr>\n",
       "      <th>51</th>\n",
       "      <td>0.083137</td>\n",
       "      <td>0.554439</td>\n",
       "      <td>0:07:18</td>\n",
       "      <td>0:00:18</td>\n",
       "    </tr>\n",
       "    <tr>\n",
       "      <th>52</th>\n",
       "      <td>0.074622</td>\n",
       "      <td>0.558516</td>\n",
       "      <td>0:07:17</td>\n",
       "      <td>0:00:18</td>\n",
       "    </tr>\n",
       "    <tr>\n",
       "      <th>53</th>\n",
       "      <td>0.066120</td>\n",
       "      <td>0.564734</td>\n",
       "      <td>0:07:18</td>\n",
       "      <td>0:00:18</td>\n",
       "    </tr>\n",
       "    <tr>\n",
       "      <th>54</th>\n",
       "      <td>0.058451</td>\n",
       "      <td>0.564383</td>\n",
       "      <td>0:07:14</td>\n",
       "      <td>0:00:17</td>\n",
       "    </tr>\n",
       "    <tr>\n",
       "      <th>55</th>\n",
       "      <td>0.050807</td>\n",
       "      <td>0.566766</td>\n",
       "      <td>0:07:17</td>\n",
       "      <td>0:00:17</td>\n",
       "    </tr>\n",
       "    <tr>\n",
       "      <th>56</th>\n",
       "      <td>0.044063</td>\n",
       "      <td>0.568350</td>\n",
       "      <td>0:07:11</td>\n",
       "      <td>0:00:17</td>\n",
       "    </tr>\n",
       "    <tr>\n",
       "      <th>57</th>\n",
       "      <td>0.038334</td>\n",
       "      <td>0.571223</td>\n",
       "      <td>0:07:13</td>\n",
       "      <td>0:00:17</td>\n",
       "    </tr>\n",
       "    <tr>\n",
       "      <th>58</th>\n",
       "      <td>0.033133</td>\n",
       "      <td>0.569545</td>\n",
       "      <td>0:07:28</td>\n",
       "      <td>0:00:17</td>\n",
       "    </tr>\n",
       "    <tr>\n",
       "      <th>59</th>\n",
       "      <td>0.029218</td>\n",
       "      <td>0.569895</td>\n",
       "      <td>0:07:28</td>\n",
       "      <td>0:00:17</td>\n",
       "    </tr>\n",
       "    <tr>\n",
       "      <th>60</th>\n",
       "      <td>0.026088</td>\n",
       "      <td>0.571430</td>\n",
       "      <td>0:07:30</td>\n",
       "      <td>0:00:17</td>\n",
       "    </tr>\n",
       "  </tbody>\n",
       "</table>\n",
       "</div>"
      ],
      "text/plain": [
       "       Training Loss  Valid. Loss Training Time Validation Time\n",
       "epoch                                                          \n",
       "1           2.274256     0.838848       0:07:24         0:00:18\n",
       "2           0.764234     0.709540       0:07:18         0:00:18\n",
       "3           0.656220     0.611671       0:07:17         0:00:18\n",
       "4           0.571721     0.562991       0:07:19         0:00:18\n",
       "5           0.524476     0.539038       0:07:16         0:00:18\n",
       "6           0.496421     0.519949       0:07:21         0:00:18\n",
       "7           0.476914     0.512433       0:07:17         0:00:18\n",
       "8           0.461180     0.502741       0:07:21         0:00:18\n",
       "9           0.446630     0.498060       0:07:22         0:00:18\n",
       "10          0.433598     0.490242       0:07:24         0:00:18\n",
       "11          0.421643     0.485064       0:07:19         0:00:18\n",
       "12          0.410710     0.487406       0:07:16         0:00:17\n",
       "13          0.400648     0.479208       0:07:15         0:00:17\n",
       "14          0.390705     0.476584       0:07:11         0:00:17\n",
       "15          0.381180     0.475319       0:07:06         0:00:17\n",
       "16          0.373157     0.472978       0:07:12         0:00:17\n",
       "17          0.364723     0.471006       0:07:12         0:00:17\n",
       "18          0.356789     0.471150       0:07:13         0:00:17\n",
       "19          0.349293     0.473225       0:07:12         0:00:17\n",
       "20          0.340804     0.469020       0:07:09         0:00:17\n",
       "21          0.334019     0.469636       0:07:09         0:00:17\n",
       "22          0.328000     0.469127       0:07:13         0:00:17\n",
       "23          0.319412     0.470877       0:07:15         0:00:17\n",
       "24          0.312839     0.470866       0:07:12         0:00:17\n",
       "25          0.305200     0.471806       0:07:13         0:00:17\n",
       "26          0.297601     0.471523       0:07:13         0:00:17\n",
       "27          0.290463     0.473328       0:07:14         0:00:17\n",
       "28          0.282246     0.476080       0:07:10         0:00:17\n",
       "29          0.275881     0.476203       0:07:13         0:00:17\n",
       "30          0.267077     0.478918       0:07:10         0:00:17\n",
       "31          0.258731     0.482624       0:07:10         0:00:17\n",
       "32          0.252667     0.483876       0:07:11         0:00:17\n",
       "33          0.243746     0.484551       0:07:06         0:00:17\n",
       "34          0.234470     0.489170       0:07:03         0:00:17\n",
       "35          0.227200     0.488605       0:07:08         0:00:17\n",
       "36          0.218437     0.493346       0:07:06         0:00:17\n",
       "37          0.210112     0.493700       0:07:06         0:00:17\n",
       "38          0.201168     0.495275       0:07:08         0:00:17\n",
       "39          0.191787     0.503235       0:07:07         0:00:17\n",
       "40          0.183135     0.510324       0:07:08         0:00:17\n",
       "41          0.175240     0.508773       0:07:10         0:00:17\n",
       "42          0.165175     0.511775       0:07:08         0:00:17\n",
       "43          0.156200     0.517158       0:07:06         0:00:17\n",
       "44          0.146955     0.522242       0:07:06         0:00:17\n",
       "45          0.137917     0.530473       0:07:09         0:00:17\n",
       "46          0.128398     0.534829       0:07:15         0:00:18\n",
       "47          0.119557     0.539202       0:07:17         0:00:18\n",
       "48          0.110538     0.542635       0:07:18         0:00:18\n",
       "49          0.101084     0.546817       0:07:20         0:00:18\n",
       "50          0.091620     0.553240       0:07:16         0:00:18\n",
       "51          0.083137     0.554439       0:07:18         0:00:18\n",
       "52          0.074622     0.558516       0:07:17         0:00:18\n",
       "53          0.066120     0.564734       0:07:18         0:00:18\n",
       "54          0.058451     0.564383       0:07:14         0:00:17\n",
       "55          0.050807     0.566766       0:07:17         0:00:17\n",
       "56          0.044063     0.568350       0:07:11         0:00:17\n",
       "57          0.038334     0.571223       0:07:13         0:00:17\n",
       "58          0.033133     0.569545       0:07:28         0:00:17\n",
       "59          0.029218     0.569895       0:07:28         0:00:17\n",
       "60          0.026088     0.571430       0:07:30         0:00:17"
      ]
     },
     "execution_count": 14,
     "metadata": {},
     "output_type": "execute_result"
    }
   ],
   "source": [
    "# Create a DataFrame from our training statistics.\n",
    "df_stats = pd.DataFrame(data=training_stats)\n",
    "\n",
    "# Use the 'epoch' as the row index.\n",
    "df_stats = df_stats.set_index('epoch')\n",
    "\n",
    "# Display the table.\n",
    "df_stats"
   ]
  },
  {
   "cell_type": "code",
   "execution_count": 15,
   "id": "554fd233",
   "metadata": {},
   "outputs": [
    {
     "data": {
      "image/png": "[encoded data removed]",
      "text/plain": [
       "<Figure size 1200x600 with 1 Axes>"
      ]
     },
     "metadata": {},
     "output_type": "display_data"
    }
   ],
   "source": [
    "# Use plot styling from seaborn.\n",
    "sns.set(style='darkgrid')\n",
    "\n",
    "# Set the plot size and font size.\n",
    "sns.set(font_scale=1.5)\n",
    "plt.rcParams[\"figure.figsize\"] = (12,6)\n",
    "\n",
    "# Plot the learning curve.\n",
    "plt.plot(df_stats['Training Loss'], 'b-o', label=\"Training\")\n",
    "plt.plot(df_stats['Valid. Loss'], 'g-o', label=\"Validation\")\n",
    "\n",
    "# Label the plot.\n",
    "plt.title(\"Training & Validation Loss\")\n",
    "plt.xlabel(\"Epoch\")\n",
    "plt.ylabel(\"Loss\")\n",
    "plt.legend()\n",
    "\n",
    "# Set x-ticks for the length of epochs\n",
    "num_epochs = len(df_stats)\n",
    "plt.xticks(range(0, num_epochs, 10))\n",
    "\n",
    "plt.show()\n"
   ]
  },
  {
   "cell_type": "code",
   "execution_count": null,
   "id": "66cd07b7",
   "metadata": {},
   "outputs": [],
   "source": []
  }
 ],
 "metadata": {
  "kernelspec": {
   "display_name": "genai",
   "language": "python",
   "name": "python3"
  },
  "language_info": {
   "codemirror_mode": {
    "name": "ipython",
    "version": 3
   },
   "file_extension": ".py",
   "mimetype": "text/x-python",
   "name": "python",
   "nbconvert_exporter": "python",
   "pygments_lexer": "ipython3",
   "version": "3.11.8"
  }
 },
 "nbformat": 4,
 "nbformat_minor": 5
}
